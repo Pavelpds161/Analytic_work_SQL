{
 "cells": [
  {
   "cell_type": "markdown",
   "metadata": {
    "colab_type": "text",
    "id": "Fd3_VqqaHVAN"
   },
   "source": [
    "# Курсовая работа \n",
    "\n",
    "- [Часть первая](#Часть-первая)\n"
   ]
  },
  {
   "cell_type": "markdown",
   "metadata": {
    "colab_type": "text",
    "id": "v_LX23K6HVAQ"
   },
   "source": [
    "## Часть первая\n",
    "\n",
    "\n",
    "Перед вами стоит задача – подготовить аналитический отчет для HR-отдела. На основании проведенной аналитики предполагается составить рекомендации для отдела кадров по стратегии набора персонала, а также по взаимодействию с уже имеющимися сотрудниками.\n",
    "<br><br> В базе данных лежит набор таблиц, которые содержат данные о сотрудниках вымышленной компании.\n",
    "Сделайте обзор штата сотрудников компании. Составьте набор предметов исследования, а затем проверьте их на данных. Вся аналитика должна быть выполена с помощью SQL. <br><br>\n",
    "\n",
    "Примеры гипотез:\n",
    "1. Есть зависимость между `perfomance score` и тем, под чьим руководством работает сотрудник.\n",
    "2. Есть зависимость между продолжительностью работы в компании и семейным положением сотрудника.\n",
    "2. Есть зависимость между продолжительностью работы в компании и возрастом сотрудника.\n",
    "\n",
    "<br><br>\n",
    "Параметры для подключения следующие: хост – `dsstudents.skillbox.ru`, порт – `5432`, имя базы данных – `human_resources`, пользователь – `readonly`, пароль – `6hajV34RTQfmxhS`. Таблицы, доступные для анализа, – `hr_dataset`, `production_staff`, `recruting_costs`, `salary_grid`."
   ]
  },
  {
   "cell_type": "code",
   "execution_count": 1,
   "metadata": {
    "colab": {},
    "colab_type": "code",
    "id": "7b1vJYVrHVAR"
   },
   "outputs": [
    {
     "name": "stdout",
     "output_type": "stream",
     "text": [
      "Какие таблицы имеем в БД: [('hr_dataset',), ('production_staff',), ('male',), ('female',), ('recruiting_costs',), ('salary_grid',), ('numb_of_hire',), ('numb_of_terms',), ('show_functions',), ('share_employee_source',)]\n"
     ]
    }
   ],
   "source": [
    "### YOUR CODE HERE ###\n",
    "import psycopg2\n",
    "import pandas as pd\n",
    "import numpy as np \n",
    "\n",
    "pg_connection = {\n",
    "    \"host\": \"dsstudents.skillbox.ru\",\n",
    "    \"port\": 5432,\n",
    "    \"dbname\": \"human_resources\",\n",
    "    \"user\": \"readonly\",\n",
    "    \"password\": \"6hajV34RTQfmxhS\"\n",
    "}\n",
    "\n",
    "conn = psycopg2.connect(**pg_connection)\n",
    "cursor = conn.cursor()\n",
    "\n",
    "# name of tables from database\n",
    "sql_str = \"SELECT table_name FROM information_schema.tables WHERE table_schema='public';\"\n",
    "cursor.execute(sql_str)\n",
    "tables_data = [a for a in cursor.fetchall()]\n",
    "conn.commit()\n",
    "\n",
    "print(\"Какие таблицы имеем в БД: %s\" % tables_data)"
   ]
  },
  {
   "cell_type": "code",
   "execution_count": 2,
   "metadata": {},
   "outputs": [
    {
     "name": "stdout",
     "output_type": "stream",
     "text": [
      "table hr_dataset: 310\n",
      "table production_staff: 256\n",
      "table male: 5\n",
      "table female: 6\n",
      "table recruiting_costs: 22\n",
      "table salary_grid: 12\n",
      "table show_functions: 0\n",
      "table share_employee_source: 23\n"
     ]
    }
   ],
   "source": [
    "# count of rows \n",
    "\n",
    "table_names = [i[0] for i in tables_data]\n",
    "for table in table_names:\n",
    "    sql_str = \"SELECT COUNT(*) FROM public.{};\".format(table)\n",
    "    cursor.execute(sql_str)\n",
    "    row_count = [a for a in cursor.fetchall()][0][0]\n",
    "    print(\"table {}: {}\".format(table, row_count))"
   ]
  },
  {
   "cell_type": "code",
   "execution_count": 3,
   "metadata": {
    "scrolled": true
   },
   "outputs": [
    {
     "data": {
      "text/html": [
       "<div>\n",
       "<style scoped>\n",
       "    .dataframe tbody tr th:only-of-type {\n",
       "        vertical-align: middle;\n",
       "    }\n",
       "\n",
       "    .dataframe tbody tr th {\n",
       "        vertical-align: top;\n",
       "    }\n",
       "\n",
       "    .dataframe thead th {\n",
       "        text-align: right;\n",
       "    }\n",
       "</style>\n",
       "<table border=\"1\" class=\"dataframe\">\n",
       "  <thead>\n",
       "    <tr style=\"text-align: right;\">\n",
       "      <th></th>\n",
       "      <th>id</th>\n",
       "      <th>Employee Name</th>\n",
       "      <th>Employee Number</th>\n",
       "      <th>marriedid</th>\n",
       "      <th>maritalstatusid</th>\n",
       "      <th>genderid</th>\n",
       "      <th>empstatus_id</th>\n",
       "      <th>deptid</th>\n",
       "      <th>perf_scoreid</th>\n",
       "      <th>age</th>\n",
       "      <th>...</th>\n",
       "      <th>Date of Hire</th>\n",
       "      <th>Days Employed</th>\n",
       "      <th>Date of Termination</th>\n",
       "      <th>Reason For Term</th>\n",
       "      <th>Employment Status</th>\n",
       "      <th>department</th>\n",
       "      <th>position</th>\n",
       "      <th>Manager Name</th>\n",
       "      <th>Employee Source</th>\n",
       "      <th>Performance Score</th>\n",
       "    </tr>\n",
       "  </thead>\n",
       "  <tbody>\n",
       "    <tr>\n",
       "      <th>0</th>\n",
       "      <td>1</td>\n",
       "      <td>Brown, Mia</td>\n",
       "      <td>1103024456</td>\n",
       "      <td>1</td>\n",
       "      <td>1</td>\n",
       "      <td>0</td>\n",
       "      <td>1</td>\n",
       "      <td>1</td>\n",
       "      <td>3</td>\n",
       "      <td>30</td>\n",
       "      <td>...</td>\n",
       "      <td>2008-10-27</td>\n",
       "      <td>3317</td>\n",
       "      <td>None</td>\n",
       "      <td>N/A - still employed</td>\n",
       "      <td>Active</td>\n",
       "      <td>Admin Offices</td>\n",
       "      <td>Accountant I</td>\n",
       "      <td>Brandon R. LeBlanc</td>\n",
       "      <td>Diversity Job Fair</td>\n",
       "      <td>Fully Meets</td>\n",
       "    </tr>\n",
       "    <tr>\n",
       "      <th>1</th>\n",
       "      <td>2</td>\n",
       "      <td>LaRotonda, William</td>\n",
       "      <td>1106026572</td>\n",
       "      <td>0</td>\n",
       "      <td>2</td>\n",
       "      <td>1</td>\n",
       "      <td>1</td>\n",
       "      <td>1</td>\n",
       "      <td>3</td>\n",
       "      <td>34</td>\n",
       "      <td>...</td>\n",
       "      <td>2014-01-06</td>\n",
       "      <td>1420</td>\n",
       "      <td>None</td>\n",
       "      <td>N/A - still employed</td>\n",
       "      <td>Active</td>\n",
       "      <td>Admin Offices</td>\n",
       "      <td>Accountant I</td>\n",
       "      <td>Brandon R. LeBlanc</td>\n",
       "      <td>Website Banner Ads</td>\n",
       "      <td>Fully Meets</td>\n",
       "    </tr>\n",
       "    <tr>\n",
       "      <th>2</th>\n",
       "      <td>3</td>\n",
       "      <td>Steans, Tyrone</td>\n",
       "      <td>1302053333</td>\n",
       "      <td>0</td>\n",
       "      <td>0</td>\n",
       "      <td>1</td>\n",
       "      <td>1</td>\n",
       "      <td>1</td>\n",
       "      <td>3</td>\n",
       "      <td>31</td>\n",
       "      <td>...</td>\n",
       "      <td>2014-09-29</td>\n",
       "      <td>1154</td>\n",
       "      <td>None</td>\n",
       "      <td>N/A - still employed</td>\n",
       "      <td>Active</td>\n",
       "      <td>Admin Offices</td>\n",
       "      <td>Accountant I</td>\n",
       "      <td>Brandon R. LeBlanc</td>\n",
       "      <td>Internet Search</td>\n",
       "      <td>Fully Meets</td>\n",
       "    </tr>\n",
       "    <tr>\n",
       "      <th>3</th>\n",
       "      <td>4</td>\n",
       "      <td>Howard, Estelle</td>\n",
       "      <td>1211050782</td>\n",
       "      <td>1</td>\n",
       "      <td>1</td>\n",
       "      <td>0</td>\n",
       "      <td>1</td>\n",
       "      <td>1</td>\n",
       "      <td>9</td>\n",
       "      <td>32</td>\n",
       "      <td>...</td>\n",
       "      <td>2015-02-16</td>\n",
       "      <td>58</td>\n",
       "      <td>2015-04-15</td>\n",
       "      <td>N/A - still employed</td>\n",
       "      <td>Active</td>\n",
       "      <td>Admin Offices</td>\n",
       "      <td>Administrative Assistant</td>\n",
       "      <td>Brandon R. LeBlanc</td>\n",
       "      <td>Pay Per Click - Google</td>\n",
       "      <td>N/A- too early to review</td>\n",
       "    </tr>\n",
       "    <tr>\n",
       "      <th>4</th>\n",
       "      <td>5</td>\n",
       "      <td>Singh, Nan</td>\n",
       "      <td>1307059817</td>\n",
       "      <td>0</td>\n",
       "      <td>0</td>\n",
       "      <td>0</td>\n",
       "      <td>1</td>\n",
       "      <td>1</td>\n",
       "      <td>9</td>\n",
       "      <td>30</td>\n",
       "      <td>...</td>\n",
       "      <td>2015-05-01</td>\n",
       "      <td>940</td>\n",
       "      <td>None</td>\n",
       "      <td>N/A - still employed</td>\n",
       "      <td>Active</td>\n",
       "      <td>Admin Offices</td>\n",
       "      <td>Administrative Assistant</td>\n",
       "      <td>Brandon R. LeBlanc</td>\n",
       "      <td>Website Banner Ads</td>\n",
       "      <td>N/A- too early to review</td>\n",
       "    </tr>\n",
       "  </tbody>\n",
       "</table>\n",
       "<p>5 rows × 29 columns</p>\n",
       "</div>"
      ],
      "text/plain": [
       "   id         Employee Name  Employee Number  marriedid  maritalstatusid  \\\n",
       "0   1            Brown, Mia       1103024456          1                1   \n",
       "1   2  LaRotonda, William         1106026572          0                2   \n",
       "2   3      Steans, Tyrone         1302053333          0                0   \n",
       "3   4       Howard, Estelle       1211050782          1                1   \n",
       "4   5           Singh, Nan        1307059817          0                0   \n",
       "\n",
       "   genderid  empstatus_id  deptid  perf_scoreid  age  \\\n",
       "0         0             1       1             3   30   \n",
       "1         1             1       1             3   34   \n",
       "2         1             1       1             3   31   \n",
       "3         0             1       1             9   32   \n",
       "4         0             1       1             9   30   \n",
       "\n",
       "             ...             Date of Hire Days Employed  Date of Termination  \\\n",
       "0            ...               2008-10-27          3317                 None   \n",
       "1            ...               2014-01-06          1420                 None   \n",
       "2            ...               2014-09-29          1154                 None   \n",
       "3            ...               2015-02-16            58           2015-04-15   \n",
       "4            ...               2015-05-01           940                 None   \n",
       "\n",
       "        Reason For Term Employment Status     department  \\\n",
       "0  N/A - still employed            Active  Admin Offices   \n",
       "1  N/A - still employed            Active  Admin Offices   \n",
       "2  N/A - still employed            Active  Admin Offices   \n",
       "3  N/A - still employed            Active  Admin Offices   \n",
       "4  N/A - still employed            Active  Admin Offices   \n",
       "\n",
       "                   position        Manager Name         Employee Source  \\\n",
       "0              Accountant I  Brandon R. LeBlanc      Diversity Job Fair   \n",
       "1              Accountant I  Brandon R. LeBlanc      Website Banner Ads   \n",
       "2              Accountant I  Brandon R. LeBlanc         Internet Search   \n",
       "3  Administrative Assistant  Brandon R. LeBlanc  Pay Per Click - Google   \n",
       "4  Administrative Assistant  Brandon R. LeBlanc      Website Banner Ads   \n",
       "\n",
       "          Performance Score  \n",
       "0               Fully Meets  \n",
       "1               Fully Meets  \n",
       "2               Fully Meets  \n",
       "3  N/A- too early to review  \n",
       "4  N/A- too early to review  \n",
       "\n",
       "[5 rows x 29 columns]"
      ]
     },
     "execution_count": 3,
     "metadata": {},
     "output_type": "execute_result"
    }
   ],
   "source": [
    "# look on tables: \n",
    "# first\n",
    "df_hr = pd.read_sql_query(\"SELECT * FROM public.hr_dataset LIMIT 5;\", conn)\n",
    "df_hr"
   ]
  },
  {
   "cell_type": "code",
   "execution_count": 4,
   "metadata": {},
   "outputs": [
    {
     "data": {
      "text/html": [
       "<div>\n",
       "<style scoped>\n",
       "    .dataframe tbody tr th:only-of-type {\n",
       "        vertical-align: middle;\n",
       "    }\n",
       "\n",
       "    .dataframe tbody tr th {\n",
       "        vertical-align: top;\n",
       "    }\n",
       "\n",
       "    .dataframe thead th {\n",
       "        text-align: right;\n",
       "    }\n",
       "</style>\n",
       "<table border=\"1\" class=\"dataframe\">\n",
       "  <thead>\n",
       "    <tr style=\"text-align: right;\">\n",
       "      <th></th>\n",
       "      <th>Pay Rate</th>\n",
       "      <th>state</th>\n",
       "      <th>zip</th>\n",
       "      <th>dob</th>\n",
       "      <th>sex</th>\n",
       "      <th>maritaldesc</th>\n",
       "      <th>citizendesc</th>\n",
       "      <th>Hispanic/Latino</th>\n",
       "      <th>racedesc</th>\n",
       "    </tr>\n",
       "  </thead>\n",
       "  <tbody>\n",
       "    <tr>\n",
       "      <th>0</th>\n",
       "      <td>28.50</td>\n",
       "      <td>MA</td>\n",
       "      <td>1450</td>\n",
       "      <td>1987-11-24</td>\n",
       "      <td>Female</td>\n",
       "      <td>Married</td>\n",
       "      <td>US Citizen</td>\n",
       "      <td>No</td>\n",
       "      <td>Black or African American</td>\n",
       "    </tr>\n",
       "    <tr>\n",
       "      <th>1</th>\n",
       "      <td>23.00</td>\n",
       "      <td>MA</td>\n",
       "      <td>1460</td>\n",
       "      <td>1984-04-26</td>\n",
       "      <td>Male</td>\n",
       "      <td>Divorced</td>\n",
       "      <td>US Citizen</td>\n",
       "      <td>No</td>\n",
       "      <td>Black or African American</td>\n",
       "    </tr>\n",
       "    <tr>\n",
       "      <th>2</th>\n",
       "      <td>29.00</td>\n",
       "      <td>MA</td>\n",
       "      <td>2703</td>\n",
       "      <td>1986-09-01</td>\n",
       "      <td>Male</td>\n",
       "      <td>Single</td>\n",
       "      <td>US Citizen</td>\n",
       "      <td>No</td>\n",
       "      <td>White</td>\n",
       "    </tr>\n",
       "    <tr>\n",
       "      <th>3</th>\n",
       "      <td>21.50</td>\n",
       "      <td>MA</td>\n",
       "      <td>2170</td>\n",
       "      <td>1985-09-16</td>\n",
       "      <td>Female</td>\n",
       "      <td>Married</td>\n",
       "      <td>US Citizen</td>\n",
       "      <td>No</td>\n",
       "      <td>White</td>\n",
       "    </tr>\n",
       "    <tr>\n",
       "      <th>4</th>\n",
       "      <td>16.56</td>\n",
       "      <td>MA</td>\n",
       "      <td>2330</td>\n",
       "      <td>1988-05-19</td>\n",
       "      <td>Female</td>\n",
       "      <td>Single</td>\n",
       "      <td>US Citizen</td>\n",
       "      <td>No</td>\n",
       "      <td>White</td>\n",
       "    </tr>\n",
       "  </tbody>\n",
       "</table>\n",
       "</div>"
      ],
      "text/plain": [
       "   Pay Rate state   zip         dob     sex maritaldesc citizendesc  \\\n",
       "0     28.50    MA  1450  1987-11-24  Female     Married  US Citizen   \n",
       "1     23.00    MA  1460  1984-04-26    Male    Divorced  US Citizen   \n",
       "2     29.00    MA  2703  1986-09-01    Male      Single  US Citizen   \n",
       "3     21.50    MA  2170  1985-09-16  Female     Married  US Citizen   \n",
       "4     16.56    MA  2330  1988-05-19  Female      Single  US Citizen   \n",
       "\n",
       "  Hispanic/Latino                   racedesc  \n",
       "0              No  Black or African American  \n",
       "1              No  Black or African American  \n",
       "2              No                      White  \n",
       "3              No                      White  \n",
       "4              No                      White  "
      ]
     },
     "execution_count": 4,
     "metadata": {},
     "output_type": "execute_result"
    }
   ],
   "source": [
    "# what is not visible \n",
    "df_hr.iloc[:, 10:19]"
   ]
  },
  {
   "cell_type": "code",
   "execution_count": 6,
   "metadata": {},
   "outputs": [
    {
     "data": {
      "text/html": [
       "<div>\n",
       "<style scoped>\n",
       "    .dataframe tbody tr th:only-of-type {\n",
       "        vertical-align: middle;\n",
       "    }\n",
       "\n",
       "    .dataframe tbody tr th {\n",
       "        vertical-align: top;\n",
       "    }\n",
       "\n",
       "    .dataframe thead th {\n",
       "        text-align: right;\n",
       "    }\n",
       "</style>\n",
       "<table border=\"1\" class=\"dataframe\">\n",
       "  <thead>\n",
       "    <tr style=\"text-align: right;\">\n",
       "      <th></th>\n",
       "      <th>id</th>\n",
       "      <th>Employee Name</th>\n",
       "      <th>Race Desc</th>\n",
       "      <th>Date of Hire</th>\n",
       "      <th>TermDate</th>\n",
       "      <th>Reason for Term</th>\n",
       "      <th>Employment Status</th>\n",
       "      <th>Department</th>\n",
       "      <th>Position</th>\n",
       "      <th>Pay</th>\n",
       "      <th>Manager Name</th>\n",
       "      <th>Performance Score</th>\n",
       "      <th>Abutments/Hour Wk 1</th>\n",
       "      <th>Abutments/Hour Wk 2</th>\n",
       "      <th>Daily Error Rate</th>\n",
       "      <th>90-day Complaints</th>\n",
       "    </tr>\n",
       "  </thead>\n",
       "  <tbody>\n",
       "    <tr>\n",
       "      <th>0</th>\n",
       "      <td>1</td>\n",
       "      <td>Albert, Michael</td>\n",
       "      <td>White</td>\n",
       "      <td>2011-08-01</td>\n",
       "      <td>None</td>\n",
       "      <td>N/A - still employed</td>\n",
       "      <td>Active</td>\n",
       "      <td>Production</td>\n",
       "      <td>Production Manager</td>\n",
       "      <td>$54.50</td>\n",
       "      <td>Elisa Bramante</td>\n",
       "      <td>Fully Meets</td>\n",
       "      <td>0</td>\n",
       "      <td>0</td>\n",
       "      <td>0</td>\n",
       "      <td>0</td>\n",
       "    </tr>\n",
       "    <tr>\n",
       "      <th>1</th>\n",
       "      <td>2</td>\n",
       "      <td>Bozzi, Charles</td>\n",
       "      <td>Asian</td>\n",
       "      <td>2013-09-30</td>\n",
       "      <td>2014-08-07</td>\n",
       "      <td>retiring</td>\n",
       "      <td>Voluntarily Terminated</td>\n",
       "      <td>Production</td>\n",
       "      <td>Production Manager</td>\n",
       "      <td>$50.50</td>\n",
       "      <td>Elisa Bramante</td>\n",
       "      <td>Fully Meets</td>\n",
       "      <td>0</td>\n",
       "      <td>0</td>\n",
       "      <td>0</td>\n",
       "      <td>0</td>\n",
       "    </tr>\n",
       "    <tr>\n",
       "      <th>2</th>\n",
       "      <td>3</td>\n",
       "      <td>Butler, Webster  L</td>\n",
       "      <td>White</td>\n",
       "      <td>2016-01-28</td>\n",
       "      <td>None</td>\n",
       "      <td>N/A - still employed</td>\n",
       "      <td>Active</td>\n",
       "      <td>Production</td>\n",
       "      <td>Production Manager</td>\n",
       "      <td>$55.00</td>\n",
       "      <td>Elisa Bramante</td>\n",
       "      <td>Exceeds</td>\n",
       "      <td>0</td>\n",
       "      <td>0</td>\n",
       "      <td>0</td>\n",
       "      <td>0</td>\n",
       "    </tr>\n",
       "    <tr>\n",
       "      <th>3</th>\n",
       "      <td>4</td>\n",
       "      <td>Dunn, Amy</td>\n",
       "      <td>White</td>\n",
       "      <td>2014-09-18</td>\n",
       "      <td>None</td>\n",
       "      <td>N/A - still employed</td>\n",
       "      <td>Active</td>\n",
       "      <td>Production</td>\n",
       "      <td>Production Manager</td>\n",
       "      <td>$51.00</td>\n",
       "      <td>Elisa Bramante</td>\n",
       "      <td>Fully Meets</td>\n",
       "      <td>0</td>\n",
       "      <td>0</td>\n",
       "      <td>0</td>\n",
       "      <td>0</td>\n",
       "    </tr>\n",
       "    <tr>\n",
       "      <th>4</th>\n",
       "      <td>5</td>\n",
       "      <td>Gray, Elijiah</td>\n",
       "      <td>White</td>\n",
       "      <td>2015-06-02</td>\n",
       "      <td>None</td>\n",
       "      <td>N/A - still employed</td>\n",
       "      <td>Active</td>\n",
       "      <td>Production</td>\n",
       "      <td>Production Manager</td>\n",
       "      <td>$54.00</td>\n",
       "      <td>Elisa Bramante</td>\n",
       "      <td>Fully Meets</td>\n",
       "      <td>0</td>\n",
       "      <td>0</td>\n",
       "      <td>0</td>\n",
       "      <td>0</td>\n",
       "    </tr>\n",
       "  </tbody>\n",
       "</table>\n",
       "</div>"
      ],
      "text/plain": [
       "   id       Employee Name Race Desc Date of Hire    TermDate  \\\n",
       "0   1   Albert, Michael       White   2011-08-01        None   \n",
       "1   2      Bozzi, Charles     Asian   2013-09-30  2014-08-07   \n",
       "2   3  Butler, Webster  L     White   2016-01-28        None   \n",
       "3   4         Dunn, Amy       White   2014-09-18        None   \n",
       "4   5     Gray, Elijiah       White   2015-06-02        None   \n",
       "\n",
       "        Reason for Term       Employment Status         Department  \\\n",
       "0  N/A - still employed                  Active  Production          \n",
       "1              retiring  Voluntarily Terminated  Production          \n",
       "2  N/A - still employed                  Active  Production          \n",
       "3  N/A - still employed                  Active  Production          \n",
       "4  N/A - still employed                  Active  Production          \n",
       "\n",
       "             Position     Pay    Manager Name Performance Score  \\\n",
       "0  Production Manager  $54.50  Elisa Bramante       Fully Meets   \n",
       "1  Production Manager  $50.50  Elisa Bramante       Fully Meets   \n",
       "2  Production Manager  $55.00  Elisa Bramante           Exceeds   \n",
       "3  Production Manager  $51.00  Elisa Bramante       Fully Meets   \n",
       "4  Production Manager  $54.00  Elisa Bramante       Fully Meets   \n",
       "\n",
       "   Abutments/Hour Wk 1  Abutments/Hour Wk 2  Daily Error Rate  \\\n",
       "0                    0                    0                 0   \n",
       "1                    0                    0                 0   \n",
       "2                    0                    0                 0   \n",
       "3                    0                    0                 0   \n",
       "4                    0                    0                 0   \n",
       "\n",
       "   90-day Complaints  \n",
       "0                  0  \n",
       "1                  0  \n",
       "2                  0  \n",
       "3                  0  \n",
       "4                  0  "
      ]
     },
     "execution_count": 6,
     "metadata": {},
     "output_type": "execute_result"
    }
   ],
   "source": [
    "# next \n",
    "df_staff = pd.read_sql_query(\"SELECT * FROM public.production_staff LIMIT 5;\", conn)\n",
    "df_staff"
   ]
  },
  {
   "cell_type": "code",
   "execution_count": 7,
   "metadata": {},
   "outputs": [
    {
     "data": {
      "text/html": [
       "<div>\n",
       "<style scoped>\n",
       "    .dataframe tbody tr th:only-of-type {\n",
       "        vertical-align: middle;\n",
       "    }\n",
       "\n",
       "    .dataframe tbody tr th {\n",
       "        vertical-align: top;\n",
       "    }\n",
       "\n",
       "    .dataframe thead th {\n",
       "        text-align: right;\n",
       "    }\n",
       "</style>\n",
       "<table border=\"1\" class=\"dataframe\">\n",
       "  <thead>\n",
       "    <tr style=\"text-align: right;\">\n",
       "      <th></th>\n",
       "      <th>id</th>\n",
       "      <th>Employment Source</th>\n",
       "      <th>January</th>\n",
       "      <th>February</th>\n",
       "      <th>March</th>\n",
       "      <th>April</th>\n",
       "      <th>May</th>\n",
       "      <th>June</th>\n",
       "      <th>July</th>\n",
       "      <th>August</th>\n",
       "      <th>September</th>\n",
       "      <th>October</th>\n",
       "      <th>November</th>\n",
       "      <th>December</th>\n",
       "      <th>Total</th>\n",
       "    </tr>\n",
       "  </thead>\n",
       "  <tbody>\n",
       "    <tr>\n",
       "      <th>0</th>\n",
       "      <td>1</td>\n",
       "      <td>Billboard</td>\n",
       "      <td>520</td>\n",
       "      <td>520</td>\n",
       "      <td>520</td>\n",
       "      <td>520</td>\n",
       "      <td>0</td>\n",
       "      <td>0</td>\n",
       "      <td>612</td>\n",
       "      <td>612</td>\n",
       "      <td>729</td>\n",
       "      <td>749</td>\n",
       "      <td>910</td>\n",
       "      <td>500</td>\n",
       "      <td>6192</td>\n",
       "    </tr>\n",
       "    <tr>\n",
       "      <th>1</th>\n",
       "      <td>2</td>\n",
       "      <td>Careerbuilder</td>\n",
       "      <td>410</td>\n",
       "      <td>410</td>\n",
       "      <td>410</td>\n",
       "      <td>820</td>\n",
       "      <td>820</td>\n",
       "      <td>410</td>\n",
       "      <td>410</td>\n",
       "      <td>820</td>\n",
       "      <td>820</td>\n",
       "      <td>1230</td>\n",
       "      <td>820</td>\n",
       "      <td>410</td>\n",
       "      <td>7790</td>\n",
       "    </tr>\n",
       "    <tr>\n",
       "      <th>2</th>\n",
       "      <td>3</td>\n",
       "      <td>Company Intranet - Partner</td>\n",
       "      <td>0</td>\n",
       "      <td>0</td>\n",
       "      <td>0</td>\n",
       "      <td>0</td>\n",
       "      <td>0</td>\n",
       "      <td>0</td>\n",
       "      <td>0</td>\n",
       "      <td>0</td>\n",
       "      <td>0</td>\n",
       "      <td>0</td>\n",
       "      <td>0</td>\n",
       "      <td>0</td>\n",
       "      <td>0</td>\n",
       "    </tr>\n",
       "    <tr>\n",
       "      <th>3</th>\n",
       "      <td>4</td>\n",
       "      <td>Diversity Job Fair</td>\n",
       "      <td>0</td>\n",
       "      <td>5129</td>\n",
       "      <td>0</td>\n",
       "      <td>0</td>\n",
       "      <td>0</td>\n",
       "      <td>0</td>\n",
       "      <td>0</td>\n",
       "      <td>4892</td>\n",
       "      <td>0</td>\n",
       "      <td>0</td>\n",
       "      <td>0</td>\n",
       "      <td>0</td>\n",
       "      <td>10021</td>\n",
       "    </tr>\n",
       "    <tr>\n",
       "      <th>4</th>\n",
       "      <td>5</td>\n",
       "      <td>Employee Referral</td>\n",
       "      <td>0</td>\n",
       "      <td>0</td>\n",
       "      <td>0</td>\n",
       "      <td>0</td>\n",
       "      <td>0</td>\n",
       "      <td>0</td>\n",
       "      <td>0</td>\n",
       "      <td>0</td>\n",
       "      <td>0</td>\n",
       "      <td>0</td>\n",
       "      <td>0</td>\n",
       "      <td>0</td>\n",
       "      <td>0</td>\n",
       "    </tr>\n",
       "    <tr>\n",
       "      <th>5</th>\n",
       "      <td>6</td>\n",
       "      <td>Glassdoor</td>\n",
       "      <td>0</td>\n",
       "      <td>0</td>\n",
       "      <td>0</td>\n",
       "      <td>0</td>\n",
       "      <td>0</td>\n",
       "      <td>0</td>\n",
       "      <td>0</td>\n",
       "      <td>0</td>\n",
       "      <td>0</td>\n",
       "      <td>0</td>\n",
       "      <td>0</td>\n",
       "      <td>0</td>\n",
       "      <td>0</td>\n",
       "    </tr>\n",
       "    <tr>\n",
       "      <th>6</th>\n",
       "      <td>7</td>\n",
       "      <td>Information Session</td>\n",
       "      <td>0</td>\n",
       "      <td>0</td>\n",
       "      <td>0</td>\n",
       "      <td>0</td>\n",
       "      <td>0</td>\n",
       "      <td>0</td>\n",
       "      <td>0</td>\n",
       "      <td>0</td>\n",
       "      <td>0</td>\n",
       "      <td>0</td>\n",
       "      <td>0</td>\n",
       "      <td>0</td>\n",
       "      <td>0</td>\n",
       "    </tr>\n",
       "    <tr>\n",
       "      <th>7</th>\n",
       "      <td>8</td>\n",
       "      <td>Internet Search</td>\n",
       "      <td>0</td>\n",
       "      <td>0</td>\n",
       "      <td>0</td>\n",
       "      <td>0</td>\n",
       "      <td>0</td>\n",
       "      <td>0</td>\n",
       "      <td>0</td>\n",
       "      <td>0</td>\n",
       "      <td>0</td>\n",
       "      <td>0</td>\n",
       "      <td>0</td>\n",
       "      <td>0</td>\n",
       "      <td>0</td>\n",
       "    </tr>\n",
       "    <tr>\n",
       "      <th>8</th>\n",
       "      <td>9</td>\n",
       "      <td>MBTA ads</td>\n",
       "      <td>640</td>\n",
       "      <td>640</td>\n",
       "      <td>640</td>\n",
       "      <td>640</td>\n",
       "      <td>640</td>\n",
       "      <td>640</td>\n",
       "      <td>640</td>\n",
       "      <td>1300</td>\n",
       "      <td>1300</td>\n",
       "      <td>1300</td>\n",
       "      <td>1300</td>\n",
       "      <td>1300</td>\n",
       "      <td>10980</td>\n",
       "    </tr>\n",
       "    <tr>\n",
       "      <th>9</th>\n",
       "      <td>10</td>\n",
       "      <td>Monster.com</td>\n",
       "      <td>500</td>\n",
       "      <td>500</td>\n",
       "      <td>500</td>\n",
       "      <td>440</td>\n",
       "      <td>500</td>\n",
       "      <td>500</td>\n",
       "      <td>440</td>\n",
       "      <td>500</td>\n",
       "      <td>440</td>\n",
       "      <td>440</td>\n",
       "      <td>500</td>\n",
       "      <td>500</td>\n",
       "      <td>5760</td>\n",
       "    </tr>\n",
       "    <tr>\n",
       "      <th>10</th>\n",
       "      <td>11</td>\n",
       "      <td>Newspager/Magazine</td>\n",
       "      <td>629</td>\n",
       "      <td>510</td>\n",
       "      <td>293</td>\n",
       "      <td>810</td>\n",
       "      <td>642</td>\n",
       "      <td>675</td>\n",
       "      <td>707</td>\n",
       "      <td>740</td>\n",
       "      <td>772</td>\n",
       "      <td>805</td>\n",
       "      <td>838</td>\n",
       "      <td>870</td>\n",
       "      <td>8291</td>\n",
       "    </tr>\n",
       "    <tr>\n",
       "      <th>11</th>\n",
       "      <td>12</td>\n",
       "      <td>On-campus Recruiting</td>\n",
       "      <td>0</td>\n",
       "      <td>0</td>\n",
       "      <td>2500</td>\n",
       "      <td>0</td>\n",
       "      <td>0</td>\n",
       "      <td>2500</td>\n",
       "      <td>0</td>\n",
       "      <td>0</td>\n",
       "      <td>2500</td>\n",
       "      <td>0</td>\n",
       "      <td>0</td>\n",
       "      <td>0</td>\n",
       "      <td>7500</td>\n",
       "    </tr>\n",
       "    <tr>\n",
       "      <th>12</th>\n",
       "      <td>13</td>\n",
       "      <td>On-line Web application</td>\n",
       "      <td>0</td>\n",
       "      <td>0</td>\n",
       "      <td>0</td>\n",
       "      <td>0</td>\n",
       "      <td>0</td>\n",
       "      <td>0</td>\n",
       "      <td>0</td>\n",
       "      <td>0</td>\n",
       "      <td>0</td>\n",
       "      <td>0</td>\n",
       "      <td>0</td>\n",
       "      <td>0</td>\n",
       "      <td>0</td>\n",
       "    </tr>\n",
       "    <tr>\n",
       "      <th>13</th>\n",
       "      <td>14</td>\n",
       "      <td>Other</td>\n",
       "      <td>0</td>\n",
       "      <td>492</td>\n",
       "      <td>0</td>\n",
       "      <td>829</td>\n",
       "      <td>744</td>\n",
       "      <td>0</td>\n",
       "      <td>610</td>\n",
       "      <td>0</td>\n",
       "      <td>0</td>\n",
       "      <td>510</td>\n",
       "      <td>0</td>\n",
       "      <td>810</td>\n",
       "      <td>3995</td>\n",
       "    </tr>\n",
       "    <tr>\n",
       "      <th>14</th>\n",
       "      <td>15</td>\n",
       "      <td>Pay Per Click</td>\n",
       "      <td>110</td>\n",
       "      <td>110</td>\n",
       "      <td>60</td>\n",
       "      <td>121</td>\n",
       "      <td>110</td>\n",
       "      <td>109</td>\n",
       "      <td>130</td>\n",
       "      <td>146</td>\n",
       "      <td>105</td>\n",
       "      <td>109</td>\n",
       "      <td>105</td>\n",
       "      <td>110</td>\n",
       "      <td>1323</td>\n",
       "    </tr>\n",
       "    <tr>\n",
       "      <th>15</th>\n",
       "      <td>16</td>\n",
       "      <td>Pay Per Click - Google</td>\n",
       "      <td>330</td>\n",
       "      <td>330</td>\n",
       "      <td>180</td>\n",
       "      <td>362</td>\n",
       "      <td>197</td>\n",
       "      <td>152</td>\n",
       "      <td>389</td>\n",
       "      <td>437</td>\n",
       "      <td>315</td>\n",
       "      <td>327</td>\n",
       "      <td>315</td>\n",
       "      <td>176</td>\n",
       "      <td>3509</td>\n",
       "    </tr>\n",
       "    <tr>\n",
       "      <th>16</th>\n",
       "      <td>17</td>\n",
       "      <td>Professional Society</td>\n",
       "      <td>100</td>\n",
       "      <td>100</td>\n",
       "      <td>100</td>\n",
       "      <td>100</td>\n",
       "      <td>100</td>\n",
       "      <td>100</td>\n",
       "      <td>100</td>\n",
       "      <td>100</td>\n",
       "      <td>100</td>\n",
       "      <td>100</td>\n",
       "      <td>100</td>\n",
       "      <td>100</td>\n",
       "      <td>1200</td>\n",
       "    </tr>\n",
       "    <tr>\n",
       "      <th>17</th>\n",
       "      <td>18</td>\n",
       "      <td>Search Engine - Google Bing Yahoo</td>\n",
       "      <td>330</td>\n",
       "      <td>410</td>\n",
       "      <td>388</td>\n",
       "      <td>372</td>\n",
       "      <td>472</td>\n",
       "      <td>412</td>\n",
       "      <td>416</td>\n",
       "      <td>495</td>\n",
       "      <td>619</td>\n",
       "      <td>502</td>\n",
       "      <td>389</td>\n",
       "      <td>378</td>\n",
       "      <td>5183</td>\n",
       "    </tr>\n",
       "    <tr>\n",
       "      <th>18</th>\n",
       "      <td>19</td>\n",
       "      <td>Social Networks - Facebook Twitter etc</td>\n",
       "      <td>420</td>\n",
       "      <td>481</td>\n",
       "      <td>452</td>\n",
       "      <td>479</td>\n",
       "      <td>392</td>\n",
       "      <td>508</td>\n",
       "      <td>578</td>\n",
       "      <td>466</td>\n",
       "      <td>389</td>\n",
       "      <td>439</td>\n",
       "      <td>491</td>\n",
       "      <td>478</td>\n",
       "      <td>5573</td>\n",
       "    </tr>\n",
       "    <tr>\n",
       "      <th>19</th>\n",
       "      <td>20</td>\n",
       "      <td>Vendor Referral</td>\n",
       "      <td>0</td>\n",
       "      <td>0</td>\n",
       "      <td>0</td>\n",
       "      <td>0</td>\n",
       "      <td>0</td>\n",
       "      <td>0</td>\n",
       "      <td>0</td>\n",
       "      <td>0</td>\n",
       "      <td>0</td>\n",
       "      <td>0</td>\n",
       "      <td>0</td>\n",
       "      <td>0</td>\n",
       "      <td>0</td>\n",
       "    </tr>\n",
       "    <tr>\n",
       "      <th>20</th>\n",
       "      <td>21</td>\n",
       "      <td>Website Banner Ads</td>\n",
       "      <td>400</td>\n",
       "      <td>400</td>\n",
       "      <td>300</td>\n",
       "      <td>388</td>\n",
       "      <td>592</td>\n",
       "      <td>610</td>\n",
       "      <td>620</td>\n",
       "      <td>669</td>\n",
       "      <td>718</td>\n",
       "      <td>767</td>\n",
       "      <td>816</td>\n",
       "      <td>865</td>\n",
       "      <td>7143</td>\n",
       "    </tr>\n",
       "    <tr>\n",
       "      <th>21</th>\n",
       "      <td>22</td>\n",
       "      <td>Word of Mouth</td>\n",
       "      <td>0</td>\n",
       "      <td>0</td>\n",
       "      <td>0</td>\n",
       "      <td>0</td>\n",
       "      <td>0</td>\n",
       "      <td>0</td>\n",
       "      <td>0</td>\n",
       "      <td>0</td>\n",
       "      <td>0</td>\n",
       "      <td>0</td>\n",
       "      <td>0</td>\n",
       "      <td>0</td>\n",
       "      <td>0</td>\n",
       "    </tr>\n",
       "  </tbody>\n",
       "</table>\n",
       "</div>"
      ],
      "text/plain": [
       "    id                       Employment Source  January   February  March  \\\n",
       "0    1                               Billboard       520       520    520   \n",
       "1    2                           Careerbuilder       410       410    410   \n",
       "2    3              Company Intranet - Partner         0         0      0   \n",
       "3    4                      Diversity Job Fair         0      5129      0   \n",
       "4    5                       Employee Referral         0         0      0   \n",
       "5    6                               Glassdoor         0         0      0   \n",
       "6    7                     Information Session         0         0      0   \n",
       "7    8                         Internet Search         0         0      0   \n",
       "8    9                                MBTA ads       640       640    640   \n",
       "9   10                             Monster.com       500       500    500   \n",
       "10  11                      Newspager/Magazine       629       510    293   \n",
       "11  12                    On-campus Recruiting         0         0   2500   \n",
       "12  13                 On-line Web application         0         0      0   \n",
       "13  14                                   Other         0       492      0   \n",
       "14  15                           Pay Per Click       110       110     60   \n",
       "15  16                  Pay Per Click - Google       330       330    180   \n",
       "16  17                    Professional Society       100       100    100   \n",
       "17  18       Search Engine - Google Bing Yahoo       330       410    388   \n",
       "18  19  Social Networks - Facebook Twitter etc       420       481    452   \n",
       "19  20                         Vendor Referral         0         0      0   \n",
       "20  21                      Website Banner Ads       400       400    300   \n",
       "21  22                           Word of Mouth         0         0      0   \n",
       "\n",
       "    April  May  June  July  August  September  October  November  December  \\\n",
       "0     520    0     0   612     612        729      749       910       500   \n",
       "1     820  820   410   410     820        820     1230       820       410   \n",
       "2       0    0     0     0       0          0        0         0         0   \n",
       "3       0    0     0     0    4892          0        0         0         0   \n",
       "4       0    0     0     0       0          0        0         0         0   \n",
       "5       0    0     0     0       0          0        0         0         0   \n",
       "6       0    0     0     0       0          0        0         0         0   \n",
       "7       0    0     0     0       0          0        0         0         0   \n",
       "8     640  640   640   640    1300       1300     1300      1300      1300   \n",
       "9     440  500   500   440     500        440      440       500       500   \n",
       "10    810  642   675   707     740        772      805       838       870   \n",
       "11      0    0  2500     0       0       2500        0         0         0   \n",
       "12      0    0     0     0       0          0        0         0         0   \n",
       "13    829  744     0   610       0          0      510         0       810   \n",
       "14    121  110   109   130     146        105      109       105       110   \n",
       "15    362  197   152   389     437        315      327       315       176   \n",
       "16    100  100   100   100     100        100      100       100       100   \n",
       "17    372  472   412   416     495        619      502       389       378   \n",
       "18    479  392   508   578     466        389      439       491       478   \n",
       "19      0    0     0     0       0          0        0         0         0   \n",
       "20    388  592   610   620     669        718      767       816       865   \n",
       "21      0    0     0     0       0          0        0         0         0   \n",
       "\n",
       "    Total  \n",
       "0    6192  \n",
       "1    7790  \n",
       "2       0  \n",
       "3   10021  \n",
       "4       0  \n",
       "5       0  \n",
       "6       0  \n",
       "7       0  \n",
       "8   10980  \n",
       "9    5760  \n",
       "10   8291  \n",
       "11   7500  \n",
       "12      0  \n",
       "13   3995  \n",
       "14   1323  \n",
       "15   3509  \n",
       "16   1200  \n",
       "17   5183  \n",
       "18   5573  \n",
       "19      0  \n",
       "20   7143  \n",
       "21      0  "
      ]
     },
     "execution_count": 7,
     "metadata": {},
     "output_type": "execute_result"
    }
   ],
   "source": [
    "# next \n",
    "df_recr = pd.read_sql_query(\"SELECT * FROM public.recruiting_costs;\", conn)\n",
    "df_recr"
   ]
  },
  {
   "cell_type": "code",
   "execution_count": 8,
   "metadata": {},
   "outputs": [
    {
     "data": {
      "text/html": [
       "<div>\n",
       "<style scoped>\n",
       "    .dataframe tbody tr th:only-of-type {\n",
       "        vertical-align: middle;\n",
       "    }\n",
       "\n",
       "    .dataframe tbody tr th {\n",
       "        vertical-align: top;\n",
       "    }\n",
       "\n",
       "    .dataframe thead th {\n",
       "        text-align: right;\n",
       "    }\n",
       "</style>\n",
       "<table border=\"1\" class=\"dataframe\">\n",
       "  <thead>\n",
       "    <tr style=\"text-align: right;\">\n",
       "      <th></th>\n",
       "      <th>id</th>\n",
       "      <th>Position</th>\n",
       "      <th>Salary Min</th>\n",
       "      <th>Salary Mid</th>\n",
       "      <th>Salary Max</th>\n",
       "      <th>Hourly Min</th>\n",
       "      <th>Hourly Mid</th>\n",
       "      <th>Hourly Max</th>\n",
       "    </tr>\n",
       "  </thead>\n",
       "  <tbody>\n",
       "    <tr>\n",
       "      <th>0</th>\n",
       "      <td>1</td>\n",
       "      <td>Administrative Assistant</td>\n",
       "      <td>30000</td>\n",
       "      <td>40000</td>\n",
       "      <td>50000</td>\n",
       "      <td>14.42</td>\n",
       "      <td>19.23</td>\n",
       "      <td>24.04</td>\n",
       "    </tr>\n",
       "    <tr>\n",
       "      <th>1</th>\n",
       "      <td>2</td>\n",
       "      <td>Sr. Administrative Assistant</td>\n",
       "      <td>35000</td>\n",
       "      <td>45000</td>\n",
       "      <td>55000</td>\n",
       "      <td>16.83</td>\n",
       "      <td>21.63</td>\n",
       "      <td>26.44</td>\n",
       "    </tr>\n",
       "    <tr>\n",
       "      <th>2</th>\n",
       "      <td>3</td>\n",
       "      <td>Accountant I</td>\n",
       "      <td>42274</td>\n",
       "      <td>51425</td>\n",
       "      <td>62299</td>\n",
       "      <td>20.32</td>\n",
       "      <td>24.72</td>\n",
       "      <td>29.95</td>\n",
       "    </tr>\n",
       "    <tr>\n",
       "      <th>3</th>\n",
       "      <td>4</td>\n",
       "      <td>Accountant II</td>\n",
       "      <td>50490</td>\n",
       "      <td>62158</td>\n",
       "      <td>74658</td>\n",
       "      <td>24.27</td>\n",
       "      <td>29.88</td>\n",
       "      <td>35.89</td>\n",
       "    </tr>\n",
       "    <tr>\n",
       "      <th>4</th>\n",
       "      <td>5</td>\n",
       "      <td>Sr. Accountant</td>\n",
       "      <td>63264</td>\n",
       "      <td>76988</td>\n",
       "      <td>92454</td>\n",
       "      <td>30.42</td>\n",
       "      <td>37.01</td>\n",
       "      <td>44.45</td>\n",
       "    </tr>\n",
       "    <tr>\n",
       "      <th>5</th>\n",
       "      <td>6</td>\n",
       "      <td>Network Engineer</td>\n",
       "      <td>50845</td>\n",
       "      <td>66850</td>\n",
       "      <td>88279</td>\n",
       "      <td>24.44</td>\n",
       "      <td>32.14</td>\n",
       "      <td>42.44</td>\n",
       "    </tr>\n",
       "    <tr>\n",
       "      <th>6</th>\n",
       "      <td>7</td>\n",
       "      <td>Sr. Network Engineer</td>\n",
       "      <td>79428</td>\n",
       "      <td>99458</td>\n",
       "      <td>120451</td>\n",
       "      <td>38.19</td>\n",
       "      <td>47.82</td>\n",
       "      <td>57.91</td>\n",
       "    </tr>\n",
       "    <tr>\n",
       "      <th>7</th>\n",
       "      <td>8</td>\n",
       "      <td>Database Administrator</td>\n",
       "      <td>50569</td>\n",
       "      <td>68306</td>\n",
       "      <td>93312</td>\n",
       "      <td>24.31</td>\n",
       "      <td>32.84</td>\n",
       "      <td>44.86</td>\n",
       "    </tr>\n",
       "    <tr>\n",
       "      <th>8</th>\n",
       "      <td>9</td>\n",
       "      <td>Sr. DBA</td>\n",
       "      <td>92863</td>\n",
       "      <td>116007</td>\n",
       "      <td>139170</td>\n",
       "      <td>44.65</td>\n",
       "      <td>55.77</td>\n",
       "      <td>66.91</td>\n",
       "    </tr>\n",
       "    <tr>\n",
       "      <th>9</th>\n",
       "      <td>10</td>\n",
       "      <td>Production Technician I</td>\n",
       "      <td>30000</td>\n",
       "      <td>40000</td>\n",
       "      <td>50000</td>\n",
       "      <td>14.42</td>\n",
       "      <td>19.23</td>\n",
       "      <td>24.04</td>\n",
       "    </tr>\n",
       "    <tr>\n",
       "      <th>10</th>\n",
       "      <td>11</td>\n",
       "      <td>Production Technician II</td>\n",
       "      <td>38000</td>\n",
       "      <td>48000</td>\n",
       "      <td>58000</td>\n",
       "      <td>18.27</td>\n",
       "      <td>23.08</td>\n",
       "      <td>27.88</td>\n",
       "    </tr>\n",
       "    <tr>\n",
       "      <th>11</th>\n",
       "      <td>12</td>\n",
       "      <td>Lead Production Technician</td>\n",
       "      <td>45000</td>\n",
       "      <td>55000</td>\n",
       "      <td>65000</td>\n",
       "      <td>21.63</td>\n",
       "      <td>26.44</td>\n",
       "      <td>31.25</td>\n",
       "    </tr>\n",
       "  </tbody>\n",
       "</table>\n",
       "</div>"
      ],
      "text/plain": [
       "    id                      Position  Salary Min  Salary Mid  Salary Max  \\\n",
       "0    1      Administrative Assistant       30000       40000       50000   \n",
       "1    2  Sr. Administrative Assistant       35000       45000       55000   \n",
       "2    3                  Accountant I       42274       51425       62299   \n",
       "3    4                 Accountant II       50490       62158       74658   \n",
       "4    5                Sr. Accountant       63264       76988       92454   \n",
       "5    6              Network Engineer       50845       66850       88279   \n",
       "6    7          Sr. Network Engineer       79428       99458      120451   \n",
       "7    8        Database Administrator       50569       68306       93312   \n",
       "8    9                       Sr. DBA       92863      116007      139170   \n",
       "9   10       Production Technician I       30000       40000       50000   \n",
       "10  11      Production Technician II       38000       48000       58000   \n",
       "11  12    Lead Production Technician       45000       55000       65000   \n",
       "\n",
       "    Hourly Min  Hourly Mid  Hourly Max  \n",
       "0        14.42       19.23       24.04  \n",
       "1        16.83       21.63       26.44  \n",
       "2        20.32       24.72       29.95  \n",
       "3        24.27       29.88       35.89  \n",
       "4        30.42       37.01       44.45  \n",
       "5        24.44       32.14       42.44  \n",
       "6        38.19       47.82       57.91  \n",
       "7        24.31       32.84       44.86  \n",
       "8        44.65       55.77       66.91  \n",
       "9        14.42       19.23       24.04  \n",
       "10       18.27       23.08       27.88  \n",
       "11       21.63       26.44       31.25  "
      ]
     },
     "execution_count": 8,
     "metadata": {},
     "output_type": "execute_result"
    }
   ],
   "source": [
    "# and last table \n",
    "df_sal = pd.read_sql_query(\"SELECT * FROM public.salary_grid;\", conn)\n",
    "df_sal"
   ]
  },
  {
   "cell_type": "code",
   "execution_count": 9,
   "metadata": {},
   "outputs": [
    {
     "data": {
      "text/html": [
       "<div>\n",
       "<style scoped>\n",
       "    .dataframe tbody tr th:only-of-type {\n",
       "        vertical-align: middle;\n",
       "    }\n",
       "\n",
       "    .dataframe tbody tr th {\n",
       "        vertical-align: top;\n",
       "    }\n",
       "\n",
       "    .dataframe thead th {\n",
       "        text-align: right;\n",
       "    }\n",
       "</style>\n",
       "<table border=\"1\" class=\"dataframe\">\n",
       "  <thead>\n",
       "    <tr style=\"text-align: right;\">\n",
       "      <th></th>\n",
       "      <th>department</th>\n",
       "      <th>num_sex</th>\n",
       "    </tr>\n",
       "  </thead>\n",
       "  <tbody>\n",
       "    <tr>\n",
       "      <th>0</th>\n",
       "      <td>Admin Offices</td>\n",
       "      <td>4</td>\n",
       "    </tr>\n",
       "    <tr>\n",
       "      <th>1</th>\n",
       "      <td>IT/IS</td>\n",
       "      <td>28</td>\n",
       "    </tr>\n",
       "    <tr>\n",
       "      <th>2</th>\n",
       "      <td>Production</td>\n",
       "      <td>81</td>\n",
       "    </tr>\n",
       "    <tr>\n",
       "      <th>3</th>\n",
       "      <td>Sales</td>\n",
       "      <td>16</td>\n",
       "    </tr>\n",
       "    <tr>\n",
       "      <th>4</th>\n",
       "      <td>Software Engineering</td>\n",
       "      <td>4</td>\n",
       "    </tr>\n",
       "  </tbody>\n",
       "</table>\n",
       "</div>"
      ],
      "text/plain": [
       "             department  num_sex\n",
       "0         Admin Offices        4\n",
       "1                 IT/IS       28\n",
       "2     Production              81\n",
       "3                 Sales       16\n",
       "4  Software Engineering        4"
      ]
     },
     "execution_count": 9,
     "metadata": {},
     "output_type": "execute_result"
    }
   ],
   "source": [
    "# next \n",
    "df_male = pd.read_sql_query(\"SELECT * FROM public.male;\", conn)\n",
    "df_male"
   ]
  },
  {
   "cell_type": "code",
   "execution_count": 11,
   "metadata": {},
   "outputs": [
    {
     "data": {
      "text/html": [
       "<div>\n",
       "<style scoped>\n",
       "    .dataframe tbody tr th:only-of-type {\n",
       "        vertical-align: middle;\n",
       "    }\n",
       "\n",
       "    .dataframe tbody tr th {\n",
       "        vertical-align: top;\n",
       "    }\n",
       "\n",
       "    .dataframe thead th {\n",
       "        text-align: right;\n",
       "    }\n",
       "</style>\n",
       "<table border=\"1\" class=\"dataframe\">\n",
       "  <thead>\n",
       "    <tr style=\"text-align: right;\">\n",
       "      <th></th>\n",
       "      <th>department</th>\n",
       "      <th>num_sex</th>\n",
       "    </tr>\n",
       "  </thead>\n",
       "  <tbody>\n",
       "    <tr>\n",
       "      <th>0</th>\n",
       "      <td>Admin Offices</td>\n",
       "      <td>6</td>\n",
       "    </tr>\n",
       "    <tr>\n",
       "      <th>1</th>\n",
       "      <td>Executive Office</td>\n",
       "      <td>1</td>\n",
       "    </tr>\n",
       "    <tr>\n",
       "      <th>2</th>\n",
       "      <td>IT/IS</td>\n",
       "      <td>22</td>\n",
       "    </tr>\n",
       "    <tr>\n",
       "      <th>3</th>\n",
       "      <td>Production</td>\n",
       "      <td>127</td>\n",
       "    </tr>\n",
       "    <tr>\n",
       "      <th>4</th>\n",
       "      <td>Sales</td>\n",
       "      <td>15</td>\n",
       "    </tr>\n",
       "    <tr>\n",
       "      <th>5</th>\n",
       "      <td>Software Engineering</td>\n",
       "      <td>6</td>\n",
       "    </tr>\n",
       "  </tbody>\n",
       "</table>\n",
       "</div>"
      ],
      "text/plain": [
       "             department  num_sex\n",
       "0         Admin Offices        6\n",
       "1      Executive Office        1\n",
       "2                 IT/IS       22\n",
       "3     Production             127\n",
       "4                 Sales       15\n",
       "5  Software Engineering        6"
      ]
     },
     "execution_count": 11,
     "metadata": {},
     "output_type": "execute_result"
    }
   ],
   "source": [
    "# next \n",
    "df_female = pd.read_sql_query(\"SELECT * FROM public.female;\", conn)\n",
    "df_female"
   ]
  },
  {
   "cell_type": "code",
   "execution_count": 12,
   "metadata": {},
   "outputs": [
    {
     "data": {
      "text/html": [
       "<div>\n",
       "<style scoped>\n",
       "    .dataframe tbody tr th:only-of-type {\n",
       "        vertical-align: middle;\n",
       "    }\n",
       "\n",
       "    .dataframe tbody tr th {\n",
       "        vertical-align: top;\n",
       "    }\n",
       "\n",
       "    .dataframe thead th {\n",
       "        text-align: right;\n",
       "    }\n",
       "</style>\n",
       "<table border=\"1\" class=\"dataframe\">\n",
       "  <thead>\n",
       "    <tr style=\"text-align: right;\">\n",
       "      <th></th>\n",
       "      <th>employee_source</th>\n",
       "      <th>share_source</th>\n",
       "    </tr>\n",
       "  </thead>\n",
       "  <tbody>\n",
       "    <tr>\n",
       "      <th>0</th>\n",
       "      <td>Company Intranet - Partner</td>\n",
       "      <td>0.0</td>\n",
       "    </tr>\n",
       "    <tr>\n",
       "      <th>1</th>\n",
       "      <td>Professional Society</td>\n",
       "      <td>6.0</td>\n",
       "    </tr>\n",
       "    <tr>\n",
       "      <th>2</th>\n",
       "      <td>On-line Web application</td>\n",
       "      <td>0.0</td>\n",
       "    </tr>\n",
       "    <tr>\n",
       "      <th>3</th>\n",
       "      <td>Billboard</td>\n",
       "      <td>5.0</td>\n",
       "    </tr>\n",
       "    <tr>\n",
       "      <th>4</th>\n",
       "      <td>Pay Per Click</td>\n",
       "      <td>0.0</td>\n",
       "    </tr>\n",
       "    <tr>\n",
       "      <th>5</th>\n",
       "      <td>MBTA ads</td>\n",
       "      <td>5.0</td>\n",
       "    </tr>\n",
       "    <tr>\n",
       "      <th>6</th>\n",
       "      <td>Newspager/Magazine</td>\n",
       "      <td>5.0</td>\n",
       "    </tr>\n",
       "    <tr>\n",
       "      <th>7</th>\n",
       "      <td>Search Engine - Google Bing Yahoo</td>\n",
       "      <td>8.0</td>\n",
       "    </tr>\n",
       "    <tr>\n",
       "      <th>8</th>\n",
       "      <td>Pay Per Click - Google</td>\n",
       "      <td>6.0</td>\n",
       "    </tr>\n",
       "    <tr>\n",
       "      <th>9</th>\n",
       "      <td>Internet Search</td>\n",
       "      <td>1.0</td>\n",
       "    </tr>\n",
       "    <tr>\n",
       "      <th>10</th>\n",
       "      <td>Monster.com</td>\n",
       "      <td>7.0</td>\n",
       "    </tr>\n",
       "    <tr>\n",
       "      <th>11</th>\n",
       "      <td>Other</td>\n",
       "      <td>2.0</td>\n",
       "    </tr>\n",
       "    <tr>\n",
       "      <th>12</th>\n",
       "      <td>Careerbuilder</td>\n",
       "      <td>0.0</td>\n",
       "    </tr>\n",
       "    <tr>\n",
       "      <th>13</th>\n",
       "      <td>Social Networks - Facebook Twitter etc</td>\n",
       "      <td>3.0</td>\n",
       "    </tr>\n",
       "    <tr>\n",
       "      <th>14</th>\n",
       "      <td>Word of Mouth</td>\n",
       "      <td>4.0</td>\n",
       "    </tr>\n",
       "    <tr>\n",
       "      <th>15</th>\n",
       "      <td>Employee Referral</td>\n",
       "      <td>10.0</td>\n",
       "    </tr>\n",
       "    <tr>\n",
       "      <th>16</th>\n",
       "      <td>Glassdoor</td>\n",
       "      <td>4.0</td>\n",
       "    </tr>\n",
       "    <tr>\n",
       "      <th>17</th>\n",
       "      <td>Indeed</td>\n",
       "      <td>2.0</td>\n",
       "    </tr>\n",
       "    <tr>\n",
       "      <th>18</th>\n",
       "      <td>Vendor Referral</td>\n",
       "      <td>4.0</td>\n",
       "    </tr>\n",
       "    <tr>\n",
       "      <th>19</th>\n",
       "      <td>Website Banner Ads</td>\n",
       "      <td>4.0</td>\n",
       "    </tr>\n",
       "    <tr>\n",
       "      <th>20</th>\n",
       "      <td>On-campus Recruiting</td>\n",
       "      <td>3.0</td>\n",
       "    </tr>\n",
       "    <tr>\n",
       "      <th>21</th>\n",
       "      <td>Information Session</td>\n",
       "      <td>1.0</td>\n",
       "    </tr>\n",
       "    <tr>\n",
       "      <th>22</th>\n",
       "      <td>Diversity Job Fair</td>\n",
       "      <td>9.0</td>\n",
       "    </tr>\n",
       "  </tbody>\n",
       "</table>\n",
       "</div>"
      ],
      "text/plain": [
       "                           employee_source  share_source\n",
       "0               Company Intranet - Partner           0.0\n",
       "1                     Professional Society           6.0\n",
       "2                  On-line Web application           0.0\n",
       "3                                Billboard           5.0\n",
       "4                            Pay Per Click           0.0\n",
       "5                                 MBTA ads           5.0\n",
       "6                       Newspager/Magazine           5.0\n",
       "7        Search Engine - Google Bing Yahoo           8.0\n",
       "8                   Pay Per Click - Google           6.0\n",
       "9                          Internet Search           1.0\n",
       "10                             Monster.com           7.0\n",
       "11                                   Other           2.0\n",
       "12                           Careerbuilder           0.0\n",
       "13  Social Networks - Facebook Twitter etc           3.0\n",
       "14                           Word of Mouth           4.0\n",
       "15                       Employee Referral          10.0\n",
       "16                               Glassdoor           4.0\n",
       "17                                  Indeed           2.0\n",
       "18                         Vendor Referral           4.0\n",
       "19                      Website Banner Ads           4.0\n",
       "20                    On-campus Recruiting           3.0\n",
       "21                     Information Session           1.0\n",
       "22                      Diversity Job Fair           9.0"
      ]
     },
     "execution_count": 12,
     "metadata": {},
     "output_type": "execute_result"
    }
   ],
   "source": [
    "# next \n",
    "df_emp_source = pd.read_sql_query(\"SELECT * FROM public.share_employee_source;\", conn)\n",
    "df_emp_source"
   ]
  },
  {
   "cell_type": "code",
   "execution_count": null,
   "metadata": {},
   "outputs": [],
   "source": []
  },
  {
   "cell_type": "code",
   "execution_count": 3,
   "metadata": {},
   "outputs": [],
   "source": [
    "# Create a function\n",
    "def sql_simple(sql_str):\n",
    "    cursor.execute(sql_str)\n",
    "    list_simple = []\n",
    "    for row in cursor:\n",
    "        list_simple.append(row[0])\n",
    "    print(*list_simple, sep=\", \")"
   ]
  },
  {
   "cell_type": "code",
   "execution_count": 14,
   "metadata": {},
   "outputs": [
    {
     "name": "stdout",
     "output_type": "stream",
     "text": [
      "25, 26, 27, 28, 29, 30, 31, 32, 33, 34, 35, 36, 37, 38, 39, 40, 41, 42, 43, 44, 45, 46, 47, 48, 49, 50, 51, 52, 53, 54, 55, 56, 58, 59, 62, 63, 65, 66, 67\n"
     ]
    }
   ],
   "source": [
    "# let's look on content of columns table hr_dataset\n",
    "\n",
    "sql_str1 = \"SELECT DISTINCT age FROM public.hr_dataset ORDER BY age;\"\n",
    "sql_simple(sql_str1)"
   ]
  },
  {
   "cell_type": "code",
   "execution_count": 15,
   "metadata": {},
   "outputs": [
    {
     "name": "stdout",
     "output_type": "stream",
     "text": [
      "CA, NH, OR, ND, TX, NV, KY, OH, NY, IN, FL, ME, NC, CT, RI, GA, ID, PA, MT, TN, WA, MA, AL, UT, CO, VT, VA, AZ\n"
     ]
    }
   ],
   "source": [
    "sql_str2 = \"SELECT DISTINCT state FROM public.hr_dataset;\"\n",
    "sql_simple(sql_str2)"
   ]
  },
  {
   "cell_type": "code",
   "execution_count": 10,
   "metadata": {},
   "outputs": [
    {
     "name": "stdout",
     "output_type": "stream",
     "text": [
      "CA, NH, OR, ND, TX, NV, KY, OH, NY, IN, FL, ME, NC, CT, RI, GA, ID, PA, MT, TN, WA, MA, AL, UT, CO, VT, VA, AZ\n"
     ]
    }
   ],
   "source": [
    "sql_str3 = \"SELECT DISTINCT state FROM public.hr_dataset;\"\n",
    "sql_simple(sql_str3)"
   ]
  },
  {
   "cell_type": "code",
   "execution_count": 11,
   "metadata": {},
   "outputs": [
    {
     "name": "stdout",
     "output_type": "stream",
     "text": [
      "Widowed, Married, Separated, Single, Divorced\n"
     ]
    }
   ],
   "source": [
    "sql_str4 = \"SELECT DISTINCT maritaldesc FROM public.hr_dataset;\"\n",
    "sql_simple(sql_str4)"
   ]
  },
  {
   "cell_type": "code",
   "execution_count": 12,
   "metadata": {},
   "outputs": [
    {
     "name": "stdout",
     "output_type": "stream",
     "text": [
      "Eligible NonCitizen, Non-Citizen, US Citizen\n"
     ]
    }
   ],
   "source": [
    "sql_str5 = \"SELECT DISTINCT citizendesc FROM public.hr_dataset;\"\n",
    "sql_simple(sql_str5)"
   ]
  },
  {
   "cell_type": "code",
   "execution_count": 13,
   "metadata": {},
   "outputs": [
    {
     "name": "stdout",
     "output_type": "stream",
     "text": [
      "American Indian or Alaska Native, Hispanic, Two or more races, Asian, White, Black or African American\n"
     ]
    }
   ],
   "source": [
    "sql_str6 = \"SELECT DISTINCT racedesc FROM public.hr_dataset;\"\n",
    "sql_simple(sql_str6)"
   ]
  },
  {
   "cell_type": "code",
   "execution_count": 14,
   "metadata": {},
   "outputs": [
    {
     "name": "stdout",
     "output_type": "stream",
     "text": [
      "N/A - Has not started yet, attendance, more money, medical issues, maternity leave - did not return, return to school, relocation out of area, performance, gross misconduct, military, hours, career change, unhappy, retiring, Another position, no-call, no-show, N/A - still employed\n"
     ]
    }
   ],
   "source": [
    "sql_str7 = '''SELECT DISTINCT \"Reason For Term\" FROM public.hr_dataset;'''\n",
    "sql_simple(sql_str7)"
   ]
  },
  {
   "cell_type": "code",
   "execution_count": 15,
   "metadata": {},
   "outputs": [
    {
     "name": "stdout",
     "output_type": "stream",
     "text": [
      "Future Start, Voluntarily Terminated, Active, Terminated for Cause, Leave of Absence\n"
     ]
    }
   ],
   "source": [
    "sql_str8 = '''SELECT DISTINCT \"Employment Status\" FROM public.hr_dataset;'''\n",
    "sql_simple(sql_str8)"
   ]
  },
  {
   "cell_type": "code",
   "execution_count": 16,
   "metadata": {},
   "outputs": [
    {
     "name": "stdout",
     "output_type": "stream",
     "text": [
      "Production       , Admin Offices, IT/IS, Executive Office, Software Engineering, Sales\n"
     ]
    }
   ],
   "source": [
    "sql_str9 = \"SELECT DISTINCT department FROM public.hr_dataset;\"\n",
    "sql_simple(sql_str9)"
   ]
  },
  {
   "cell_type": "code",
   "execution_count": 17,
   "metadata": {},
   "outputs": [
    {
     "name": "stdout",
     "output_type": "stream",
     "text": [
      "IT Support, Database Administrator, Software Engineering Manager, Production Manager, Senior BI Developer, Shared Services Manager, BI Developer, CIO, Sales Manager, Sr. DBA, Network Engineer, Area Sales Manager, Administrative Assistant, Data Architect, IT Manager - DB, IT Manager - Infra, IT Director, Production Technician I, BI Director, Software Engineer, Sr. Network Engineer, Director of Sales, President & CEO, Sr. Accountant, Production Technician II, IT Manager - Support, Director of Operations, Accountant I\n"
     ]
    }
   ],
   "source": [
    "sql_str10 = \"SELECT DISTINCT position FROM public.hr_dataset;\"\n",
    "sql_simple(sql_str10)"
   ]
  },
  {
   "cell_type": "code",
   "execution_count": 18,
   "metadata": {},
   "outputs": [
    {
     "name": "stdout",
     "output_type": "stream",
     "text": [
      "Brian Champaigne, Michael Albert, Simon Roup, John Smith, Amy Dunn, Brannon Miller, Webster Butler, Brandon R. LeBlanc, Janet King, Lynn Daneault, Elijiah Gray, Alex Sweetwater, David Stanley, Peter Monroe, Eric Dougall, Jennifer Zamora, Board of Directors, Kelley Spirea, Kissy Sullivan, Ketsia Liebig, Debra Houlihan\n"
     ]
    }
   ],
   "source": [
    "sql_str11 = '''SELECT DISTINCT \"Manager Name\" FROM public.hr_dataset;'''\n",
    "sql_simple(sql_str11)"
   ]
  },
  {
   "cell_type": "code",
   "execution_count": 19,
   "metadata": {},
   "outputs": [
    {
     "name": "stdout",
     "output_type": "stream",
     "text": [
      "Exceptional, 90-day meets, N/A- too early to review, Fully Meets, Exceeds, PIP, Needs Improvement\n"
     ]
    }
   ],
   "source": [
    "sql_str12 = '''SELECT DISTINCT \"Performance Score\" FROM public.hr_dataset;'''\n",
    "sql_simple(sql_str12)"
   ]
  },
  {
   "cell_type": "code",
   "execution_count": 20,
   "metadata": {},
   "outputs": [
    {
     "name": "stdout",
     "output_type": "stream",
     "text": [
      "None, N/A - Has not started yet, attendance, more money, medical issues, maternity leave - did not return, return to school, performance, relocation out of area, gross misconduct, military, hours, career change, unhappy, retiring, Another position, no-call, no-show, N/A - still employed\n"
     ]
    }
   ],
   "source": [
    "# let's look on content of columns table production_staff\n",
    "\n",
    "sql_str13 = '''SELECT DISTINCT \"Reason for Term\" FROM public.production_staff;'''\n",
    "sql_simple(sql_str13)"
   ]
  },
  {
   "cell_type": "code",
   "execution_count": 21,
   "metadata": {},
   "outputs": [
    {
     "name": "stdout",
     "output_type": "stream",
     "text": [
      "Leave of Absence, None, Future Start, Voluntarily Terminated, Active, Terminated for Cause\n"
     ]
    }
   ],
   "source": [
    "sql_str14 = '''SELECT DISTINCT \"Employment Status\" FROM public.production_staff;'''\n",
    "sql_simple(sql_str14)"
   ]
  },
  {
   "cell_type": "code",
   "execution_count": 22,
   "metadata": {},
   "outputs": [
    {
     "name": "stdout",
     "output_type": "stream",
     "text": [
      "4, 2, None, 0, 1, 3\n"
     ]
    }
   ],
   "source": [
    "sql_str15 = '''SELECT DISTINCT \"Daily Error Rate\" FROM public.production_staff;'''\n",
    "sql_simple(sql_str15)"
   ]
  },
  {
   "cell_type": "code",
   "execution_count": 23,
   "metadata": {},
   "outputs": [
    {
     "name": "stdout",
     "output_type": "stream",
     "text": [
      "4, 2, None, 0, 1, 3\n"
     ]
    }
   ],
   "source": [
    "sql_str16 = '''SELECT DISTINCT \"90-day Complaints\" FROM public.production_staff;'''\n",
    "sql_simple(sql_str16)"
   ]
  },
  {
   "cell_type": "code",
   "execution_count": 24,
   "metadata": {},
   "outputs": [
    {
     "name": "stdout",
     "output_type": "stream",
     "text": [
      "None, Production       \n"
     ]
    }
   ],
   "source": [
    "sql_str17 = '''SELECT DISTINCT \"Department\" FROM public.production_staff;'''\n",
    "sql_simple(sql_str17)"
   ]
  },
  {
   "cell_type": "code",
   "execution_count": 25,
   "metadata": {},
   "outputs": [
    {
     "name": "stdout",
     "output_type": "stream",
     "text": [
      "Production Technician I, None, Production Manager, Production Technician II\n"
     ]
    }
   ],
   "source": [
    "sql_str18 = '''SELECT DISTINCT \"Position\" FROM public.production_staff;'''\n",
    "sql_simple(sql_str18)"
   ]
  },
  {
   "cell_type": "code",
   "execution_count": 26,
   "metadata": {},
   "outputs": [
    {
     "name": "stdout",
     "output_type": "stream",
     "text": [
      "Ketsia Liebig, Amy Dunn, None, Brannon Miller, Webster Butler, Michael Albert, Elijiah Gray, David Stanley, Elisa Bramante, Kelley Spirea, Kissy Sullivan\n"
     ]
    }
   ],
   "source": [
    "sql_str19 = '''SELECT DISTINCT \"Manager Name\" FROM public.production_staff;'''\n",
    "sql_simple(sql_str19)"
   ]
  },
  {
   "cell_type": "code",
   "execution_count": 77,
   "metadata": {},
   "outputs": [
    {
     "name": "stdout",
     "output_type": "stream",
     "text": [
      "Needs Improvement, None, Exceptional, 90-day meets, N/A- too early to review, Fully Meets, Exceeds, PIP\n"
     ]
    }
   ],
   "source": [
    "sql_str20 = '''SELECT DISTINCT \"Performance Score\" FROM public.production_staff;'''\n",
    "sql_simple(sql_str20)"
   ]
  },
  {
   "cell_type": "code",
   "execution_count": null,
   "metadata": {},
   "outputs": [],
   "source": []
  },
  {
   "cell_type": "code",
   "execution_count": 76,
   "metadata": {},
   "outputs": [],
   "source": [
    "# Легко заметить, что:\n",
    "# 1. таблица hr_dataset связана с таблицей salary_grid через колонку position \n",
    "# 2. таблица hr_dataset связана с таблицей recruiting_costs через колонку employee source \n",
    "# 3. таблица production_staff связана с таблицей salary_grid через колонку position "
   ]
  },
  {
   "cell_type": "code",
   "execution_count": null,
   "metadata": {},
   "outputs": [],
   "source": [
    "# I. LET'S EXPLORE THE TABLE 'HR_DATASET'!\n",
    "\n"
   ]
  },
  {
   "cell_type": "code",
   "execution_count": 4,
   "metadata": {},
   "outputs": [],
   "source": [
    "# Create a function № 2\n",
    "def sql_medium(sql_str):\n",
    "    cursor.execute(sql_str)\n",
    "    list_medium = []\n",
    "    for row in cursor:\n",
    "        list_medium.append(row[0])\n",
    "    array_dict = {}.fromkeys(list_medium, 0)\n",
    "    for elem in list_medium:\n",
    "        array_dict[elem] += 1\n",
    "    print(array_dict)"
   ]
  },
  {
   "cell_type": "code",
   "execution_count": 17,
   "metadata": {},
   "outputs": [
    {
     "name": "stdout",
     "output_type": "stream",
     "text": [
      "{'Brandon R. LeBlanc': 4, 'Janet King': 13, 'Board of Directors': 2, 'Simon Roup': 6, 'Jennifer Zamora': 4, 'Eric Dougall': 3, 'Peter Monroe': 6, 'Elijiah Gray': 13, 'Brannon Miller': 8, 'Kelley Spirea': 15, 'Michael Albert': 9, 'Webster Butler': 11, 'Amy Dunn': 11, 'Ketsia Liebig': 14, 'David Stanley': 15, 'Kissy Sullivan': 14, 'Lynn Daneault': 8, 'John Smith': 11, 'Debra Houlihan': 2, 'Alex Sweetwater': 4, 'Brian Champaigne': 8}\n"
     ]
    }
   ],
   "source": [
    "# Is there a relationship between performance score and who the employee is working under?\n",
    "# - Fully Meets\n",
    "sql_str21 = \"\"\"\n",
    "    SELECT \"Manager Name\" FROM public.hr_dataset \n",
    "    WHERE \"Performance Score\" = 'Fully Meets';\n",
    "\"\"\"\n",
    "sql_medium(sql_str21)"
   ]
  },
  {
   "cell_type": "code",
   "execution_count": 11,
   "metadata": {},
   "outputs": [
    {
     "name": "stdout",
     "output_type": "stream",
     "text": [
      "{'Jennifer Zamora': 1, 'Eric Dougall': 1, 'Janet King': 3, 'Michael Albert': 2, 'Brannon Miller': 5, 'Amy Dunn': 2, 'Webster Butler': 2, 'Kelley Spirea': 3, 'David Stanley': 1, 'Kissy Sullivan': 1, 'Ketsia Liebig': 2, 'Elijiah Gray': 2, 'Lynn Daneault': 2, 'Alex Sweetwater': 1}\n"
     ]
    }
   ],
   "source": [
    "# Is there a relationship between performance score and who the employee is working under?\n",
    "# - Exceeds\n",
    "sql_str22 = \"\"\"\n",
    "    SELECT \"Manager Name\" FROM public.hr_dataset \n",
    "    WHERE \"Performance Score\" = 'Exceeds';\n",
    "\"\"\"\n",
    "sql_medium(sql_str22)"
   ]
  },
  {
   "cell_type": "code",
   "execution_count": 12,
   "metadata": {},
   "outputs": [
    {
     "name": "stdout",
     "output_type": "stream",
     "text": [
      "{'Jennifer Zamora': 1, 'Janet King': 2, 'Kissy Sullivan': 1, 'Brannon Miller': 1, 'Michael Albert': 3, 'Webster Butler': 2, 'Ketsia Liebig': 1, 'Elijiah Gray': 1, 'John Smith': 1, 'Debra Houlihan': 1, 'Alex Sweetwater': 1}\n"
     ]
    }
   ],
   "source": [
    "# Is there a relationship between performance score and who the employee is working under?\n",
    "# - Needs Improvement\n",
    "sql_str23 = \"\"\"\n",
    "    SELECT \"Manager Name\" FROM public.hr_dataset \n",
    "    WHERE \"Performance Score\" = 'Needs Improvement';\n",
    "\"\"\"\n",
    "sql_medium(sql_str23)"
   ]
  },
  {
   "cell_type": "code",
   "execution_count": 13,
   "metadata": {},
   "outputs": [
    {
     "name": "stdout",
     "output_type": "stream",
     "text": [
      "{'Married': 73, 'Divorced': 16, 'Single': 81, 'Separated': 8, 'Widowed': 3}\n"
     ]
    }
   ],
   "source": [
    "# Is there a relationship between performance score and the marital status of the employee?\n",
    "# - Fully Meets\n",
    "sql_str24 = \"\"\"\n",
    "    SELECT maritaldesc FROM public.hr_dataset \n",
    "    WHERE \"Performance Score\" = 'Fully Meets';\n",
    "\"\"\"\n",
    "sql_medium(sql_str24)"
   ]
  },
  {
   "cell_type": "code",
   "execution_count": 14,
   "metadata": {},
   "outputs": [
    {
     "name": "stdout",
     "output_type": "stream",
     "text": [
      "{'Single': 12, 'Married': 10, 'Divorced': 4, 'Separated': 2}\n"
     ]
    }
   ],
   "source": [
    "# Is there a relationship between performance score and the marital status of the employee?\n",
    "# - Exceeds\n",
    "sql_str25 = \"\"\"\n",
    "    SELECT maritaldesc FROM public.hr_dataset \n",
    "    WHERE \"Performance Score\" = 'Exceeds';\n",
    "\"\"\"\n",
    "sql_medium(sql_str25)"
   ]
  },
  {
   "cell_type": "code",
   "execution_count": 34,
   "metadata": {},
   "outputs": [
    {
     "name": "stdout",
     "output_type": "stream",
     "text": [
      "{'Married': 6, 'Divorced': 2, 'Single': 7}\n"
     ]
    }
   ],
   "source": [
    "# Is there a relationship between performance score and the marital status of the employee?\n",
    "# - Needs Improvement\n",
    "sql_str26 = \"\"\"\n",
    "    SELECT maritaldesc FROM public.hr_dataset \n",
    "    WHERE \"Performance Score\" = 'Needs Improvement';\n",
    "\"\"\"\n",
    "sql_medium(sql_str26)"
   ]
  },
  {
   "cell_type": "code",
   "execution_count": 35,
   "metadata": {},
   "outputs": [
    {
     "name": "stdout",
     "output_type": "stream",
     "text": [
      "{30: 10, 34: 11, 31: 9, 33: 10, 39: 14, 63: 3, 32: 7, 46: 3, 36: 6, 45: 7, 54: 4, 49: 5, 37: 3, 43: 8, 53: 3, 66: 1, 48: 5, 44: 4, 41: 5, 42: 5, 40: 6, 62: 1, 29: 9, 47: 5, 59: 1, 27: 3, 35: 7, 67: 2, 26: 1, 38: 6, 25: 2, 65: 2, 52: 3, 50: 1, 56: 1, 51: 2, 55: 1, 28: 5}\n"
     ]
    }
   ],
   "source": [
    "# Is there a relationship between performance score and the age of the employee?\n",
    "# - Fully Meets\n",
    "sql_str27 = \"\"\"\n",
    "    SELECT age FROM public.hr_dataset \n",
    "    WHERE \"Performance Score\" = 'Fully Meets';\n",
    "\"\"\"\n",
    "sql_medium(sql_str27)"
   ]
  },
  {
   "cell_type": "code",
   "execution_count": 36,
   "metadata": {},
   "outputs": [
    {
     "name": "stdout",
     "output_type": "stream",
     "text": [
      "{47: 1, 29: 2, 35: 1, 34: 2, 36: 2, 28: 1, 37: 1, 38: 1, 48: 1, 44: 1, 58: 1, 45: 3, 51: 1, 41: 1, 31: 3, 32: 1, 52: 1, 54: 1, 59: 1, 50: 1, 39: 1}\n"
     ]
    }
   ],
   "source": [
    "# Is there a relationship between performance score and the age of the employee?\n",
    "# - Exceeds\n",
    "sql_str28 = \"\"\"\n",
    "    SELECT age FROM public.hr_dataset \n",
    "    WHERE \"Performance Score\" = 'Exceeds';\n",
    "\"\"\"\n",
    "sql_medium(sql_str28)"
   ]
  },
  {
   "cell_type": "code",
   "execution_count": 37,
   "metadata": {},
   "outputs": [
    {
     "name": "stdout",
     "output_type": "stream",
     "text": [
      "{31: 2, 41: 1, 42: 2, 38: 2, 39: 1, 34: 1, 43: 1, 30: 1, 33: 2, 37: 1, 27: 1}\n"
     ]
    }
   ],
   "source": [
    "# Is there a relationship between performance score and the age of the employee?\n",
    "# - Needs Improvement\n",
    "sql_str29 = \"\"\"\n",
    "    SELECT age FROM public.hr_dataset \n",
    "    WHERE \"Performance Score\" = 'Needs Improvement';\n",
    "\"\"\"\n",
    "sql_medium(sql_str29)"
   ]
  },
  {
   "cell_type": "code",
   "execution_count": 38,
   "metadata": {},
   "outputs": [
    {
     "name": "stdout",
     "output_type": "stream",
     "text": [
      "{'US Citizen': 170, 'Eligible NonCitizen': 7, 'Non-Citizen': 4}\n"
     ]
    }
   ],
   "source": [
    "# Is there a relationship between performance score and the migration status of the employee?\n",
    "# - Fully Meets\n",
    "sql_str30 = \"\"\"\n",
    "    SELECT citizendesc FROM public.hr_dataset \n",
    "    WHERE \"Performance Score\" = 'Fully Meets';\n",
    "\"\"\"\n",
    "sql_medium(sql_str30)"
   ]
  },
  {
   "cell_type": "code",
   "execution_count": 39,
   "metadata": {},
   "outputs": [
    {
     "name": "stdout",
     "output_type": "stream",
     "text": [
      "{'US Citizen': 28}\n"
     ]
    }
   ],
   "source": [
    "# Is there a relationship between performance score and the migration status of the employee?\n",
    "# - Exceeds\n",
    "sql_str31 = \"\"\"\n",
    "    SELECT citizendesc FROM public.hr_dataset \n",
    "    WHERE \"Performance Score\" = 'Exceeds';\n",
    "\"\"\"\n",
    "sql_medium(sql_str31)"
   ]
  },
  {
   "cell_type": "code",
   "execution_count": 40,
   "metadata": {},
   "outputs": [
    {
     "name": "stdout",
     "output_type": "stream",
     "text": [
      "{'Eligible NonCitizen': 1, 'US Citizen': 14}\n"
     ]
    }
   ],
   "source": [
    "# Is there a relationship between performance score and the migration status of the employee?\n",
    "# - Needs Improvement\n",
    "sql_str32 = \"\"\"\n",
    "    SELECT citizendesc FROM public.hr_dataset \n",
    "    WHERE \"Performance Score\" = 'Needs Improvement';\n",
    "\"\"\"\n",
    "sql_medium(sql_str32)"
   ]
  },
  {
   "cell_type": "code",
   "execution_count": 41,
   "metadata": {},
   "outputs": [
    {
     "name": "stdout",
     "output_type": "stream",
     "text": [
      "{'Black or African American': 37, 'White': 110, 'Asian': 20, 'Two or more races': 10, 'Hispanic': 2, 'American Indian or Alaska Native': 2}\n"
     ]
    }
   ],
   "source": [
    "# Is there a relationship between performance score and the race of the employee?\n",
    "# - Fully Meets\n",
    "sql_str33 = \"\"\"\n",
    "    SELECT racedesc FROM public.hr_dataset \n",
    "    WHERE \"Performance Score\" = 'Fully Meets';\n",
    "\"\"\"\n",
    "sql_medium(sql_str33)"
   ]
  },
  {
   "cell_type": "code",
   "execution_count": 42,
   "metadata": {},
   "outputs": [
    {
     "name": "stdout",
     "output_type": "stream",
     "text": [
      "{'White': 18, 'Two or more races': 3, 'Black or African American': 2, 'American Indian or Alaska Native': 2, 'Asian': 3}\n"
     ]
    }
   ],
   "source": [
    "# Is there a relationship between performance score and the race of the employee?\n",
    "# - Exceeds\n",
    "sql_str34 = \"\"\"\n",
    "    SELECT racedesc FROM public.hr_dataset \n",
    "    WHERE \"Performance Score\" = 'Exceeds';\n",
    "\"\"\"\n",
    "sql_medium(sql_str34)"
   ]
  },
  {
   "cell_type": "code",
   "execution_count": 43,
   "metadata": {},
   "outputs": [
    {
     "name": "stdout",
     "output_type": "stream",
     "text": [
      "{'Hispanic': 1, 'Asian': 1, 'White': 5, 'Black or African American': 7, 'Two or more races': 1}\n"
     ]
    }
   ],
   "source": [
    "# Is there a relationship between performance score and the race of the employee?\n",
    "# - Needs Improvement\n",
    "sql_str35 = \"\"\"\n",
    "    SELECT racedesc FROM public.hr_dataset \n",
    "    WHERE \"Performance Score\" = 'Needs Improvement';\n",
    "\"\"\"\n",
    "sql_medium(sql_str35)"
   ]
  },
  {
   "cell_type": "code",
   "execution_count": 44,
   "metadata": {},
   "outputs": [
    {
     "name": "stdout",
     "output_type": "stream",
     "text": [
      "{'Admin Offices': 7, 'Executive Office': 1, 'IT/IS': 26, 'Production       ': 120, 'Sales': 22, 'Software Engineering': 5}\n"
     ]
    }
   ],
   "source": [
    "# Is there a relationship between performance score and the department of the employee?\n",
    "# - Fully Meets\n",
    "sql_str36 = \"\"\"\n",
    "    SELECT department FROM public.hr_dataset \n",
    "    WHERE \"Performance Score\" = 'Fully Meets';\n",
    "\"\"\"\n",
    "sql_medium(sql_str36)"
   ]
  },
  {
   "cell_type": "code",
   "execution_count": 45,
   "metadata": {},
   "outputs": [
    {
     "name": "stdout",
     "output_type": "stream",
     "text": [
      "{'IT/IS': 2, 'Production       ': 23, 'Sales': 2, 'Software Engineering': 1}\n"
     ]
    }
   ],
   "source": [
    "# Is there a relationship between performance score and the department of the employee?\n",
    "# - Exceeds\n",
    "sql_str37 = \"\"\"\n",
    "    SELECT department FROM public.hr_dataset \n",
    "    WHERE \"Performance Score\" = 'Exceeds';\n",
    "\"\"\"\n",
    "sql_medium(sql_str37)"
   ]
  },
  {
   "cell_type": "code",
   "execution_count": 46,
   "metadata": {},
   "outputs": [
    {
     "name": "stdout",
     "output_type": "stream",
     "text": [
      "{'IT/IS': 1, 'Production       ': 11, 'Sales': 2, 'Software Engineering': 1}\n"
     ]
    }
   ],
   "source": [
    "# Is there a relationship between performance score and the department of the employee?\n",
    "# - Needs Improvement\n",
    "sql_str38 = \"\"\"\n",
    "    SELECT department FROM public.hr_dataset \n",
    "    WHERE \"Performance Score\" = 'Needs Improvement';\n",
    "\"\"\"\n",
    "sql_medium(sql_str38)"
   ]
  },
  {
   "cell_type": "code",
   "execution_count": 47,
   "metadata": {},
   "outputs": [
    {
     "name": "stdout",
     "output_type": "stream",
     "text": [
      "{'Accountant I': 3, 'Administrative Assistant': 1, 'Shared Services Manager': 2, 'Sr. Accountant': 1, 'President & CEO': 1, 'Database Administrator': 4, 'IT Manager - DB': 2, 'IT Support': 3, 'Network Engineer': 4, 'Sr. DBA': 2, 'Sr. Network Engineer': 2, 'Production Manager': 10, 'Production Technician I': 78, 'Production Technician II': 32, 'Area Sales Manager': 19, 'Director of Sales': 1, 'Sales Manager': 2, 'Software Engineer': 4, 'Software Engineering Manager': 1, 'BI Director': 1, 'Senior BI Developer': 3, 'BI Developer': 4, 'Data Architect': 1}\n"
     ]
    }
   ],
   "source": [
    "# Is there a relationship between performance score and the position of the employee?\n",
    "# - Fully Meets\n",
    "sql_str39 = \"\"\"\n",
    "    SELECT position FROM public.hr_dataset \n",
    "    WHERE \"Performance Score\" = 'Fully Meets';\n",
    "\"\"\"\n",
    "sql_medium(sql_str39)"
   ]
  },
  {
   "cell_type": "code",
   "execution_count": 48,
   "metadata": {},
   "outputs": [
    {
     "name": "stdout",
     "output_type": "stream",
     "text": [
      "{'IT Manager - Support': 1, 'IT Support': 1, 'Director of Operations': 1, 'Production Manager': 2, 'Production Technician I': 14, 'Production Technician II': 6, 'Area Sales Manager': 2, 'Software Engineer': 1}\n"
     ]
    }
   ],
   "source": [
    "# Is there a relationship between performance score and the position of the employee?\n",
    "# - Exceeds\n",
    "sql_str40 = \"\"\"\n",
    "    SELECT position FROM public.hr_dataset \n",
    "    WHERE \"Performance Score\" = 'Exceeds';\n",
    "\"\"\"\n",
    "sql_medium(sql_str40)"
   ]
  },
  {
   "cell_type": "code",
   "execution_count": 49,
   "metadata": {},
   "outputs": [
    {
     "name": "stdout",
     "output_type": "stream",
     "text": [
      "{'IT Manager - Infra': 1, 'Production Manager': 2, 'Production Technician I': 8, 'Production Technician II': 1, 'Area Sales Manager': 1, 'Sales Manager': 1, 'Software Engineer': 1}\n"
     ]
    }
   ],
   "source": [
    "# Is there a relationship between performance score and the position of the employee?\n",
    "# - Needs Improvement\n",
    "sql_str41 = \"\"\"\n",
    "    SELECT position FROM public.hr_dataset \n",
    "    WHERE \"Performance Score\" = 'Needs Improvement';\n",
    "\"\"\"\n",
    "sql_medium(sql_str41)"
   ]
  },
  {
   "cell_type": "code",
   "execution_count": 50,
   "metadata": {},
   "outputs": [
    {
     "name": "stdout",
     "output_type": "stream",
     "text": [
      "{'Diversity Job Fair': 14, 'Website Banner Ads': 6, 'Internet Search': 4, 'Monster.com': 15, 'Other': 3, 'Pay Per Click - Google': 12, 'Search Engine - Google Bing Yahoo': 19, 'Glassdoor': 9, 'Employee Referral': 16, 'Professional Society': 9, 'Vendor Referral': 9, 'Information Session': 2, 'Company Intranet - Partner': 1, 'Billboard': 10, 'Social Networks - Facebook Twitter etc': 6, 'On-line Web application': 1, 'MBTA ads': 9, 'Word of Mouth': 8, 'Newspager/Magazine': 10, 'On-campus Recruiting': 9, 'Careerbuilder': 1, 'Indeed': 8}\n"
     ]
    }
   ],
   "source": [
    "# Is there a relationship between performance score and the employee source?\n",
    "# - Fully Meets\n",
    "sql_str42 = \"\"\"\n",
    "    SELECT \"Employee Source\" FROM public.hr_dataset \n",
    "    WHERE \"Performance Score\" = 'Fully Meets';\n",
    "\"\"\"\n",
    "sql_medium(sql_str42)"
   ]
  },
  {
   "cell_type": "code",
   "execution_count": 51,
   "metadata": {},
   "outputs": [
    {
     "name": "stdout",
     "output_type": "stream",
     "text": [
      "{'Professional Society': 4, 'Diversity Job Fair': 5, 'Other': 2, 'Pay Per Click - Google': 3, 'Website Banner Ads': 1, 'MBTA ads': 3, 'Employee Referral': 2, 'Monster.com': 2, 'On-campus Recruiting': 1, 'Search Engine - Google Bing Yahoo': 1, 'Information Session': 1, 'Social Networks - Facebook Twitter etc': 1, 'Glassdoor': 1, 'Billboard': 1}\n"
     ]
    }
   ],
   "source": [
    "# Is there a relationship between performance score and the employee source?\n",
    "# - Exceeds\n",
    "sql_str43 = \"\"\"\n",
    "    SELECT \"Employee Source\" FROM public.hr_dataset \n",
    "    WHERE \"Performance Score\" = 'Exceeds';\n",
    "\"\"\"\n",
    "sql_medium(sql_str43)"
   ]
  },
  {
   "cell_type": "code",
   "execution_count": 52,
   "metadata": {},
   "outputs": [
    {
     "name": "stdout",
     "output_type": "stream",
     "text": [
      "{'Diversity Job Fair': 3, 'Other': 1, 'Monster.com': 3, 'MBTA ads': 2, 'Pay Per Click - Google': 1, 'Word of Mouth': 1, 'Search Engine - Google Bing Yahoo': 1, 'Glassdoor': 1, 'Internet Search': 1, 'Billboard': 1}\n"
     ]
    }
   ],
   "source": [
    "# Is there a relationship between performance score and the employee source?\n",
    "# - Needs Improvement\n",
    "sql_str44 = \"\"\"\n",
    "    SELECT \"Employee Source\" FROM public.hr_dataset \n",
    "    WHERE \"Performance Score\" = 'Needs Improvement';\n",
    "\"\"\"\n",
    "sql_medium(sql_str44)\n",
    "#########################################################"
   ]
  },
  {
   "cell_type": "code",
   "execution_count": 53,
   "metadata": {},
   "outputs": [
    {
     "name": "stdout",
     "output_type": "stream",
     "text": [
      "{'Separated': 1, 'Single': 4, 'Married': 5}\n"
     ]
    }
   ],
   "source": [
    "# Is there a relationship between the length of work in the company \n",
    "# and the marital status of the employee? 10-most length. \n",
    "sql_str45 = \"\"\"\n",
    "    SELECT maritaldesc FROM public.hr_dataset \n",
    "    ORDER BY \"Days Employed\" DESC LIMIT 10;\n",
    "\"\"\"\n",
    "sql_medium(sql_str45)"
   ]
  },
  {
   "cell_type": "code",
   "execution_count": 54,
   "metadata": {},
   "outputs": [
    {
     "name": "stdout",
     "output_type": "stream",
     "text": [
      "{50: 1, 36: 1, 29: 1, 30: 1, 35: 1, 39: 1, 40: 1, 48: 1, 38: 1, 44: 1}\n"
     ]
    }
   ],
   "source": [
    "# Is there a relationship between the length of work in the company \n",
    "# and the age of the employee? 10-most length. \n",
    "sql_str46 = \"\"\"\n",
    "    SELECT age FROM public.hr_dataset \n",
    "    ORDER BY \"Days Employed\" DESC LIMIT 10;\n",
    "\"\"\"\n",
    "sql_medium(sql_str46)"
   ]
  },
  {
   "cell_type": "code",
   "execution_count": 55,
   "metadata": {},
   "outputs": [
    {
     "name": "stdout",
     "output_type": "stream",
     "text": [
      "{'US Citizen': 10}\n"
     ]
    }
   ],
   "source": [
    "# Is there a relationship between the length of work in the company and the migration status?\n",
    "# 10-most length.\n",
    "sql_str47 = \"\"\"\n",
    "    SELECT citizendesc FROM public.hr_dataset \n",
    "    ORDER BY \"Days Employed\" DESC LIMIT 10;\n",
    "\"\"\"\n",
    "sql_medium(sql_str47)"
   ]
  },
  {
   "cell_type": "code",
   "execution_count": 56,
   "metadata": {},
   "outputs": [
    {
     "name": "stdout",
     "output_type": "stream",
     "text": [
      "{'White': 5, 'Black or African American': 4, 'Two or more races': 1}\n"
     ]
    }
   ],
   "source": [
    "# Is there a relationship between the length of work in the company and race?\n",
    "# 10-most length.\n",
    "sql_str48 = \"\"\"\n",
    "    SELECT racedesc FROM public.hr_dataset \n",
    "    ORDER BY \"Days Employed\" DESC LIMIT 10;\n",
    "\"\"\"\n",
    "sql_medium(sql_str48)"
   ]
  },
  {
   "cell_type": "code",
   "execution_count": 57,
   "metadata": {},
   "outputs": [
    {
     "name": "stdout",
     "output_type": "stream",
     "text": [
      "{'Sales': 1, 'Production       ': 6, 'Admin Offices': 2, 'IT/IS': 1}\n"
     ]
    }
   ],
   "source": [
    "# Is there a relationship between the length of work in the company and department?\n",
    "# 10-most length.\n",
    "sql_str49 = \"\"\"\n",
    "    SELECT department FROM public.hr_dataset \n",
    "    ORDER BY \"Days Employed\" DESC LIMIT 10;\n",
    "\"\"\"\n",
    "sql_medium(sql_str49)"
   ]
  },
  {
   "cell_type": "code",
   "execution_count": 58,
   "metadata": {},
   "outputs": [
    {
     "name": "stdout",
     "output_type": "stream",
     "text": [
      "{'Area Sales Manager': 1, 'Production Technician I': 4, 'Accountant I': 1, 'Director of Operations': 1, 'Sr. Accountant': 1, 'Production Manager': 1, 'CIO': 1}\n"
     ]
    }
   ],
   "source": [
    "# Is there a relationship between the length of work in the company and position?\n",
    "# 10-most length.\n",
    "sql_str50 = \"\"\"\n",
    "    SELECT position FROM public.hr_dataset \n",
    "    ORDER BY \"Days Employed\" DESC LIMIT 10;\n",
    "\"\"\"\n",
    "sql_medium(sql_str50)"
   ]
  },
  {
   "cell_type": "code",
   "execution_count": 73,
   "metadata": {},
   "outputs": [
    {
     "name": "stdout",
     "output_type": "stream",
     "text": [
      "{'Billboard': 3, 'Search Engine - Google Bing Yahoo': 2, 'Diversity Job Fair': 2, 'Other': 2, 'Employee Referral': 1}\n"
     ]
    }
   ],
   "source": [
    "# Is there a relationship between the length of work in the company and position?\n",
    "# 10-most length.\n",
    "sql_str51 = \"\"\"\n",
    "    SELECT \"Employee Source\" FROM public.hr_dataset \n",
    "    ORDER BY \"Days Employed\" DESC LIMIT 10;\n",
    "\"\"\"\n",
    "sql_medium(sql_str51)"
   ]
  },
  {
   "cell_type": "code",
   "execution_count": 79,
   "metadata": {},
   "outputs": [
    {
     "name": "stdout",
     "output_type": "stream",
     "text": [
      "{'Lynn Daneault': 1, 'David Stanley': 1, 'Elijiah Gray': 1, 'Brandon R. LeBlanc': 1, 'Janet King': 3, 'Board of Directors': 1, 'Brannon Miller': 1, 'Ketsia Liebig': 1}\n"
     ]
    }
   ],
   "source": [
    "# Is there a relationship between the length of work in the company and manager name?\n",
    "# 10-most length.\n",
    "sql_str52 = \"\"\"\n",
    "    SELECT \"Manager Name\" FROM public.hr_dataset \n",
    "    ORDER BY \"Days Employed\" DESC LIMIT 10;\n",
    "\"\"\"\n",
    "sql_medium(sql_str52)"
   ]
  },
  {
   "cell_type": "code",
   "execution_count": 4,
   "metadata": {},
   "outputs": [
    {
     "name": "stdout",
     "output_type": "stream",
     "text": [
      "11\n"
     ]
    }
   ],
   "source": [
    "# Number of employees who have the status 'N/A - Has not started yet' in \"Reason For Term\".\n",
    "sql_str53 = \"\"\"\n",
    "    SELECT COUNT (*) FROM public.hr_dataset \n",
    "    WHERE \"Reason For Term\" = 'N/A - Has not started yet';\n",
    "\"\"\"\n",
    "cursor.execute(sql_str53)\n",
    "row_count1 = [a for a in cursor.fetchall()][0][0]\n",
    "print(row_count1)"
   ]
  },
  {
   "cell_type": "code",
   "execution_count": 5,
   "metadata": {},
   "outputs": [
    {
     "name": "stdout",
     "output_type": "stream",
     "text": [
      "197\n"
     ]
    }
   ],
   "source": [
    "# Number of employees who have the status 'N/A - still employed' in \"Reason For Term\".\n",
    "sql_str54 = \"\"\"\n",
    "    SELECT COUNT (*) FROM public.hr_dataset \n",
    "    WHERE \"Reason For Term\" = 'N/A - still employed';\n",
    "\"\"\"\n",
    "cursor.execute(sql_str54)\n",
    "row_count2 = [a for a in cursor.fetchall()][0][0]\n",
    "print(row_count2)"
   ]
  },
  {
   "cell_type": "code",
   "execution_count": 89,
   "metadata": {},
   "outputs": [
    {
     "name": "stdout",
     "output_type": "stream",
     "text": [
      "{'Brandon R. LeBlanc': 1, 'Janet King': 6, 'Simon Roup': 8, 'Jennifer Zamora': 1, 'Peter Monroe': 1, 'Webster Butler': 13, 'David Stanley': 6, 'Kissy Sullivan': 12, 'Michael Albert': 9, 'Amy Dunn': 13, 'Elijiah Gray': 8, 'Kelley Spirea': 6, 'Brannon Miller': 6, 'Ketsia Liebig': 5, 'John Smith': 3, 'Debra Houlihan': 1, 'Alex Sweetwater': 3}\n"
     ]
    }
   ],
   "source": [
    "# Is there a relationship between termination and the manager name?\n",
    "sql_str55 = \"\"\"\n",
    "    SELECT \"Manager Name\" FROM public.hr_dataset \n",
    "    WHERE \"Reason For Term\" NOT IN ('N/A - Has not started yet', \n",
    "    'N/A - still employed');\n",
    "\"\"\"\n",
    "sql_medium(sql_str55)"
   ]
  },
  {
   "cell_type": "code",
   "execution_count": 90,
   "metadata": {},
   "outputs": [
    {
     "name": "stdout",
     "output_type": "stream",
     "text": [
      "{'Married': 45, 'Single': 36, 'Divorced': 16, 'Widowed': 4, 'Separated': 1}\n"
     ]
    }
   ],
   "source": [
    "# Is there a relationship between termination and the maritaldesc?\n",
    "sql_str56 = \"\"\"\n",
    "    SELECT maritaldesc FROM public.hr_dataset \n",
    "    WHERE \"Reason For Term\" NOT IN ('N/A - Has not started yet', \n",
    "    'N/A - still employed');\n",
    "\"\"\"\n",
    "sql_medium(sql_str56)"
   ]
  },
  {
   "cell_type": "code",
   "execution_count": 91,
   "metadata": {},
   "outputs": [
    {
     "name": "stdout",
     "output_type": "stream",
     "text": [
      "{30: 6, 33: 6, 32: 4, 46: 2, 31: 8, 54: 2, 43: 4, 53: 3, 45: 7, 48: 3, 41: 4, 62: 1, 28: 3, 44: 4, 40: 2, 27: 1, 34: 7, 38: 2, 26: 1, 29: 3, 63: 1, 35: 3, 65: 2, 58: 1, 47: 2, 39: 4, 36: 5, 37: 3, 50: 1, 52: 1, 51: 1, 67: 1, 66: 1, 42: 1, 59: 1, 49: 1}\n"
     ]
    }
   ],
   "source": [
    "# Is there a relationship between termination and the age?\n",
    "sql_str57 = \"\"\"\n",
    "    SELECT age FROM public.hr_dataset \n",
    "    WHERE \"Reason For Term\" NOT IN ('N/A - Has not started yet', \n",
    "    'N/A - still employed');\n",
    "\"\"\"\n",
    "sql_medium(sql_str57)"
   ]
  },
  {
   "cell_type": "code",
   "execution_count": 92,
   "metadata": {},
   "outputs": [
    {
     "name": "stdout",
     "output_type": "stream",
     "text": [
      "{'US Citizen': 94, 'Eligible NonCitizen': 5, 'Non-Citizen': 3}\n"
     ]
    }
   ],
   "source": [
    "# Is there a relationship between termination and the citizendesc?\n",
    "sql_str58 = \"\"\"\n",
    "    SELECT citizendesc FROM public.hr_dataset \n",
    "    WHERE \"Reason For Term\" NOT IN ('N/A - Has not started yet', \n",
    "    'N/A - still employed');\n",
    "\"\"\"\n",
    "sql_medium(sql_str58)"
   ]
  },
  {
   "cell_type": "code",
   "execution_count": 93,
   "metadata": {},
   "outputs": [
    {
     "name": "stdout",
     "output_type": "stream",
     "text": [
      "{'Asian': 11, 'Black or African American': 17, 'White': 66, 'Two or more races': 7, 'Hispanic': 1}\n"
     ]
    }
   ],
   "source": [
    "# Is there a relationship between termination and the racedesc?\n",
    "sql_str59 = \"\"\"\n",
    "    SELECT racedesc FROM public.hr_dataset \n",
    "    WHERE \"Reason For Term\" NOT IN ('N/A - Has not started yet', \n",
    "    'N/A - still employed');\n",
    "\"\"\"\n",
    "sql_medium(sql_str59)"
   ]
  },
  {
   "cell_type": "code",
   "execution_count": 94,
   "metadata": {},
   "outputs": [
    {
     "name": "stdout",
     "output_type": "stream",
     "text": [
      "{'Admin Offices': 2, 'IT/IS': 10, 'Production       ': 83, 'Sales': 4, 'Software Engineering': 3}\n"
     ]
    }
   ],
   "source": [
    "# Is there a relationship between termination and the department?\n",
    "sql_str60 = \"\"\"\n",
    "    SELECT department FROM public.hr_dataset \n",
    "    WHERE \"Reason For Term\" NOT IN ('N/A - Has not started yet', \n",
    "    'N/A - still employed');\n",
    "\"\"\"\n",
    "sql_medium(sql_str60)"
   ]
  },
  {
   "cell_type": "code",
   "execution_count": 95,
   "metadata": {},
   "outputs": [
    {
     "name": "stdout",
     "output_type": "stream",
     "text": [
      "{'Administrative Assistant': 1, 'Shared Services Manager': 1, 'Database Administrator': 5, 'IT Manager - DB': 1, 'Network Engineer': 1, 'Sr. DBA': 3, 'Production Manager': 5, 'Production Technician I': 52, 'Production Technician II': 26, 'Area Sales Manager': 3, 'Sales Manager': 1, 'Software Engineer': 3}\n"
     ]
    }
   ],
   "source": [
    "# Is there a relationship between termination and the position?\n",
    "sql_str61 = \"\"\"\n",
    "    SELECT position FROM public.hr_dataset \n",
    "    WHERE \"Reason For Term\" NOT IN ('N/A - Has not started yet', \n",
    "    'N/A - still employed');\n",
    "\"\"\"\n",
    "sql_medium(sql_str61)"
   ]
  },
  {
   "cell_type": "code",
   "execution_count": 96,
   "metadata": {},
   "outputs": [
    {
     "name": "stdout",
     "output_type": "stream",
     "text": [
      "{'Diversity Job Fair': 16, 'Search Engine - Google Bing Yahoo': 15, 'Glassdoor': 6, 'Employee Referral': 4, 'Vendor Referral': 4, 'Monster.com': 11, 'Company Intranet - Partner': 1, 'Billboard': 5, 'Other': 3, 'Internet Search': 2, 'Word of Mouth': 7, 'On-line Web application': 1, 'MBTA ads': 4, 'Social Networks - Facebook Twitter etc': 8, 'Pay Per Click': 1, 'Professional Society': 3, 'Pay Per Click - Google': 3, 'Information Session': 1, 'Newspager/Magazine': 5, 'Website Banner Ads': 1, 'On-campus Recruiting': 1}\n"
     ]
    }
   ],
   "source": [
    "# Is there a relationship between termination and the Employee Source?\n",
    "sql_str62 = \"\"\"\n",
    "    SELECT \"Employee Source\" FROM public.hr_dataset \n",
    "    WHERE \"Reason For Term\" NOT IN ('N/A - Has not started yet', \n",
    "    'N/A - still employed');\n",
    "\"\"\"\n",
    "sql_medium(sql_str62)"
   ]
  },
  {
   "cell_type": "code",
   "execution_count": 75,
   "metadata": {},
   "outputs": [
    {
     "name": "stdout",
     "output_type": "stream",
     "text": [
      "{'Fully Meets': 56, 'N/A- too early to review': 13, '90-day meets': 13, 'Needs Improvement': 8, 'Exceeds': 8, 'PIP': 4}\n"
     ]
    }
   ],
   "source": [
    "# Is there a relationship between termination and the performance score?\n",
    "sql_str63 = \"\"\"\n",
    "    SELECT \"Performance Score\" FROM public.hr_dataset \n",
    "    WHERE \"Reason For Term\" NOT IN ('N/A - Has not started yet', \n",
    "    'N/A - still employed');\n",
    "\"\"\"\n",
    "sql_medium(sql_str63)"
   ]
  },
  {
   "cell_type": "code",
   "execution_count": null,
   "metadata": {},
   "outputs": [],
   "source": []
  },
  {
   "cell_type": "code",
   "execution_count": 17,
   "metadata": {},
   "outputs": [],
   "source": [
    "# 'HR_DATASET' AND 'SALARY_GRID'\n"
   ]
  },
  {
   "cell_type": "code",
   "execution_count": 15,
   "metadata": {},
   "outputs": [
    {
     "name": "stdout",
     "output_type": "stream",
     "text": [
      "manage_name: Simon Roup \t sal_max: 139170\n",
      "manage_name: Simon Roup \t sal_max: 139170\n",
      "manage_name: Simon Roup \t sal_max: 139170\n",
      "manage_name: Simon Roup \t sal_max: 139170\n",
      "manage_name: Peter Monroe \t sal_max: 120451\n",
      "manage_name: Peter Monroe \t sal_max: 120451\n",
      "manage_name: Peter Monroe \t sal_max: 120451\n",
      "manage_name: Peter Monroe \t sal_max: 120451\n",
      "manage_name: Peter Monroe \t sal_max: 120451\n",
      "manage_name: Simon Roup \t sal_max: 93312\n"
     ]
    }
   ],
   "source": [
    "# which managers get the maximum salary for their employees? Top 10 max\n",
    "sql_sal = \"\"\"\n",
    "    SELECT hr_dataset.\"Manager Name\", MAX(\"Salary Max\") as sal_max \n",
    "    FROM hr_dataset JOIN salary_grid ON hr_dataset.position = salary_grid.\"Position\"\n",
    "    GROUP BY hr_dataset.id ORDER BY sal_max DESC LIMIT 10;\n",
    "\"\"\"\n",
    "\n",
    "cursor.execute(sql_sal)\n",
    "for row in cursor:\n",
    "    print('manage_name: %s \\t sal_max: %s' %row)"
   ]
  },
  {
   "cell_type": "code",
   "execution_count": 7,
   "metadata": {},
   "outputs": [
    {
     "name": "stdout",
     "output_type": "stream",
     "text": [
      "manage_name: Brannon Miller \t sal_min: 30000\n",
      "manage_name: Elijiah Gray \t sal_min: 30000\n",
      "manage_name: Webster Butler \t sal_min: 30000\n",
      "manage_name: Webster Butler \t sal_min: 30000\n",
      "manage_name: Webster Butler \t sal_min: 30000\n",
      "manage_name: David Stanley \t sal_min: 30000\n",
      "manage_name: Kissy Sullivan \t sal_min: 30000\n",
      "manage_name: David Stanley \t sal_min: 30000\n",
      "manage_name: Elijiah Gray \t sal_min: 30000\n",
      "manage_name: Brannon Miller \t sal_min: 30000\n"
     ]
    }
   ],
   "source": [
    "# which managers get the minimum salary for their employees? Top 10 min\n",
    "sql_sal2 = \"\"\"\n",
    "    SELECT hr_dataset.\"Manager Name\", MIN(\"Salary Min\") as sal_min \n",
    "    FROM hr_dataset JOIN salary_grid ON hr_dataset.position = salary_grid.\"Position\"\n",
    "    GROUP BY hr_dataset.id ORDER BY sal_min ASC LIMIT 10;\n",
    "\"\"\"\n",
    "\n",
    "cursor.execute(sql_sal2)\n",
    "for row in cursor:\n",
    "    print('manage_name: %s \\t sal_min: %s' %row)"
   ]
  },
  {
   "cell_type": "code",
   "execution_count": 8,
   "metadata": {},
   "outputs": [
    {
     "name": "stdout",
     "output_type": "stream",
     "text": [
      "citizendesc: US Citizen \t sal_max: 139170\n",
      "citizendesc: US Citizen \t sal_max: 139170\n",
      "citizendesc: US Citizen \t sal_max: 139170\n",
      "citizendesc: US Citizen \t sal_max: 139170\n",
      "citizendesc: US Citizen \t sal_max: 120451\n",
      "citizendesc: US Citizen \t sal_max: 120451\n",
      "citizendesc: US Citizen \t sal_max: 120451\n",
      "citizendesc: US Citizen \t sal_max: 120451\n",
      "citizendesc: US Citizen \t sal_max: 120451\n",
      "citizendesc: US Citizen \t sal_max: 93312\n"
     ]
    }
   ],
   "source": [
    "# which citizendesc get the maximum salary for their employees? Top 10 max\n",
    "sql_sal3 = \"\"\"\n",
    "    SELECT citizendesc, MAX(\"Salary Max\") as sal_max \n",
    "    FROM hr_dataset JOIN salary_grid ON hr_dataset.position = salary_grid.\"Position\"\n",
    "    GROUP BY hr_dataset.id ORDER BY sal_max DESC LIMIT 10;\n",
    "\"\"\"\n",
    "\n",
    "cursor.execute(sql_sal3)\n",
    "for row in cursor:\n",
    "    print('citizendesc: %s \\t sal_max: %s' %row)"
   ]
  },
  {
   "cell_type": "code",
   "execution_count": 9,
   "metadata": {},
   "outputs": [
    {
     "name": "stdout",
     "output_type": "stream",
     "text": [
      "citizendesc: US Citizen \t sal_min: 30000\n",
      "citizendesc: US Citizen \t sal_min: 30000\n",
      "citizendesc: US Citizen \t sal_min: 30000\n",
      "citizendesc: US Citizen \t sal_min: 30000\n",
      "citizendesc: Non-Citizen \t sal_min: 30000\n",
      "citizendesc: US Citizen \t sal_min: 30000\n",
      "citizendesc: US Citizen \t sal_min: 30000\n",
      "citizendesc: US Citizen \t sal_min: 30000\n",
      "citizendesc: US Citizen \t sal_min: 30000\n",
      "citizendesc: US Citizen \t sal_min: 30000\n"
     ]
    }
   ],
   "source": [
    "# which citizendesc get the minimum salary for their employees? Top 10 min\n",
    "sql_sal4 = \"\"\"\n",
    "    SELECT citizendesc, MIN(\"Salary Min\") as sal_min \n",
    "    FROM hr_dataset JOIN salary_grid ON hr_dataset.position = salary_grid.\"Position\"\n",
    "    GROUP BY hr_dataset.id ORDER BY sal_min ASC LIMIT 10;\n",
    "\"\"\"\n",
    "\n",
    "cursor.execute(sql_sal4)\n",
    "for row in cursor:\n",
    "    print('citizendesc: %s \\t sal_min: %s' %row)"
   ]
  },
  {
   "cell_type": "code",
   "execution_count": 10,
   "metadata": {},
   "outputs": [
    {
     "name": "stdout",
     "output_type": "stream",
     "text": [
      "maritaldesc: Single \t sal_max: 139170\n",
      "maritaldesc: Single \t sal_max: 139170\n",
      "maritaldesc: Married \t sal_max: 139170\n",
      "maritaldesc: Single \t sal_max: 139170\n",
      "maritaldesc: Married \t sal_max: 120451\n",
      "maritaldesc: Married \t sal_max: 120451\n",
      "maritaldesc: Married \t sal_max: 120451\n",
      "maritaldesc: Single \t sal_max: 120451\n",
      "maritaldesc: Widowed \t sal_max: 120451\n",
      "maritaldesc: Single \t sal_max: 93312\n"
     ]
    }
   ],
   "source": [
    "# which maritaldesc get the maximum salary for their employees? Top 10 max\n",
    "sql_sal5 = \"\"\"\n",
    "    SELECT maritaldesc, MAX(\"Salary Max\") as sal_max \n",
    "    FROM hr_dataset JOIN salary_grid ON hr_dataset.position = salary_grid.\"Position\"\n",
    "    GROUP BY hr_dataset.id ORDER BY sal_max DESC LIMIT 10;\n",
    "\"\"\"\n",
    "\n",
    "cursor.execute(sql_sal5)\n",
    "for row in cursor:\n",
    "    print('maritaldesc: %s \\t sal_max: %s' %row)"
   ]
  },
  {
   "cell_type": "code",
   "execution_count": 11,
   "metadata": {},
   "outputs": [
    {
     "name": "stdout",
     "output_type": "stream",
     "text": [
      "maritaldesc: Married \t sal_min: 30000\n",
      "maritaldesc: Single \t sal_min: 30000\n",
      "maritaldesc: Married \t sal_min: 30000\n",
      "maritaldesc: Divorced \t sal_min: 30000\n",
      "maritaldesc: Married \t sal_min: 30000\n",
      "maritaldesc: Separated \t sal_min: 30000\n",
      "maritaldesc: Divorced \t sal_min: 30000\n",
      "maritaldesc: Single \t sal_min: 30000\n",
      "maritaldesc: Married \t sal_min: 30000\n",
      "maritaldesc: Separated \t sal_min: 30000\n"
     ]
    }
   ],
   "source": [
    "# which maritaldesc get the minimum salary for their employees? Top 10 min\n",
    "sql_sal6 = \"\"\"\n",
    "    SELECT maritaldesc, MIN(\"Salary Min\") as sal_min \n",
    "    FROM hr_dataset JOIN salary_grid ON hr_dataset.position = salary_grid.\"Position\"\n",
    "    GROUP BY hr_dataset.id ORDER BY sal_min ASC LIMIT 10;\n",
    "\"\"\"\n",
    "\n",
    "cursor.execute(sql_sal6)\n",
    "for row in cursor:\n",
    "    print('maritaldesc: %s \\t sal_min: %s' %row)"
   ]
  },
  {
   "cell_type": "code",
   "execution_count": 12,
   "metadata": {},
   "outputs": [
    {
     "name": "stdout",
     "output_type": "stream",
     "text": [
      "age: 53 \t sal_max: 139170\n",
      "age: 45 \t sal_max: 139170\n",
      "age: 43 \t sal_max: 139170\n",
      "age: 31 \t sal_max: 139170\n",
      "age: 32 \t sal_max: 120451\n",
      "age: 35 \t sal_max: 120451\n",
      "age: 66 \t sal_max: 120451\n",
      "age: 52 \t sal_max: 120451\n",
      "age: 40 \t sal_max: 120451\n",
      "age: 32 \t sal_max: 93312\n"
     ]
    }
   ],
   "source": [
    "# which age get the maximum salary for their employees? Top 10 max\n",
    "sql_sal7 = \"\"\"\n",
    "    SELECT age, MAX(\"Salary Max\") as sal_max \n",
    "    FROM hr_dataset JOIN salary_grid ON hr_dataset.position = salary_grid.\"Position\"\n",
    "    GROUP BY hr_dataset.id ORDER BY sal_max DESC LIMIT 10;\n",
    "\"\"\"\n",
    "\n",
    "cursor.execute(sql_sal7)\n",
    "for row in cursor:\n",
    "    print('age: %s \\t sal_max: %s' %row)"
   ]
  },
  {
   "cell_type": "code",
   "execution_count": 13,
   "metadata": {},
   "outputs": [
    {
     "name": "stdout",
     "output_type": "stream",
     "text": [
      "age: 49 \t sal_min: 30000\n",
      "age: 39 \t sal_min: 30000\n",
      "age: 43 \t sal_min: 30000\n",
      "age: 28 \t sal_min: 30000\n",
      "age: 43 \t sal_min: 30000\n",
      "age: 43 \t sal_min: 30000\n",
      "age: 47 \t sal_min: 30000\n",
      "age: 40 \t sal_min: 30000\n",
      "age: 29 \t sal_min: 30000\n",
      "age: 51 \t sal_min: 30000\n"
     ]
    }
   ],
   "source": [
    "# which age get the minimum salary for their employees? Top 10 min\n",
    "sql_sal8 = \"\"\"\n",
    "    SELECT age, MIN(\"Salary Min\") as sal_min \n",
    "    FROM hr_dataset JOIN salary_grid ON hr_dataset.position = salary_grid.\"Position\"\n",
    "    GROUP BY hr_dataset.id ORDER BY sal_min ASC LIMIT 10;\n",
    "\"\"\"\n",
    "\n",
    "cursor.execute(sql_sal8)\n",
    "for row in cursor:\n",
    "    print('age: %s \\t sal_min: %s' %row)"
   ]
  },
  {
   "cell_type": "code",
   "execution_count": 14,
   "metadata": {},
   "outputs": [
    {
     "name": "stdout",
     "output_type": "stream",
     "text": [
      "racedesc: Black or African American \t sal_max: 139170\n",
      "racedesc: White \t sal_max: 139170\n",
      "racedesc: White \t sal_max: 139170\n",
      "racedesc: Black or African American \t sal_max: 139170\n",
      "racedesc: White \t sal_max: 120451\n",
      "racedesc: Asian \t sal_max: 120451\n",
      "racedesc: White \t sal_max: 120451\n",
      "racedesc: White \t sal_max: 120451\n",
      "racedesc: Asian \t sal_max: 120451\n",
      "racedesc: White \t sal_max: 93312\n"
     ]
    }
   ],
   "source": [
    "# which racedesc get the maximum salary for their employees? Top 10 max\n",
    "sql_sal9 = \"\"\"\n",
    "    SELECT racedesc, MAX(\"Salary Max\") as sal_max \n",
    "    FROM hr_dataset JOIN salary_grid ON hr_dataset.position = salary_grid.\"Position\"\n",
    "    GROUP BY hr_dataset.id ORDER BY sal_max DESC LIMIT 10;\n",
    "\"\"\"\n",
    "\n",
    "cursor.execute(sql_sal9)\n",
    "for row in cursor:\n",
    "    print('racedesc: %s \\t sal_max: %s' %row)"
   ]
  },
  {
   "cell_type": "code",
   "execution_count": 15,
   "metadata": {},
   "outputs": [
    {
     "name": "stdout",
     "output_type": "stream",
     "text": [
      "racedesc: White \t sal_min: 30000\n",
      "racedesc: White \t sal_min: 30000\n",
      "racedesc: Black or African American \t sal_min: 30000\n",
      "racedesc: White \t sal_min: 30000\n",
      "racedesc: Two or more races \t sal_min: 30000\n",
      "racedesc: White \t sal_min: 30000\n",
      "racedesc: White \t sal_min: 30000\n",
      "racedesc: White \t sal_min: 30000\n",
      "racedesc: Black or African American \t sal_min: 30000\n",
      "racedesc: Asian \t sal_min: 30000\n"
     ]
    }
   ],
   "source": [
    "# which racedesc get the minimum salary for their employees? Top 10 min\n",
    "sql_sal10 = \"\"\"\n",
    "    SELECT racedesc, MIN(\"Salary Min\") as sal_min \n",
    "    FROM hr_dataset JOIN salary_grid ON hr_dataset.position = salary_grid.\"Position\"\n",
    "    GROUP BY hr_dataset.id ORDER BY sal_min ASC LIMIT 10;\n",
    "\"\"\"\n",
    "\n",
    "cursor.execute(sql_sal10)\n",
    "for row in cursor:\n",
    "    print('racedesc: %s \\t sal_min: %s' %row)"
   ]
  },
  {
   "cell_type": "code",
   "execution_count": 16,
   "metadata": {},
   "outputs": [
    {
     "name": "stdout",
     "output_type": "stream",
     "text": [
      "department: IT/IS \t sal_max: 139170\n",
      "department: IT/IS \t sal_max: 139170\n",
      "department: IT/IS \t sal_max: 139170\n",
      "department: IT/IS \t sal_max: 139170\n",
      "department: IT/IS \t sal_max: 120451\n",
      "department: IT/IS \t sal_max: 120451\n",
      "department: IT/IS \t sal_max: 120451\n",
      "department: IT/IS \t sal_max: 120451\n",
      "department: IT/IS \t sal_max: 120451\n",
      "department: IT/IS \t sal_max: 93312\n"
     ]
    }
   ],
   "source": [
    "# which department get the maximum salary for their employees? Top 10 max\n",
    "sql_sal11 = \"\"\"\n",
    "    SELECT department, MAX(\"Salary Max\") as sal_max \n",
    "    FROM hr_dataset JOIN salary_grid ON hr_dataset.position = salary_grid.\"Position\"\n",
    "    GROUP BY hr_dataset.id ORDER BY sal_max DESC LIMIT 10;\n",
    "\"\"\"\n",
    "\n",
    "cursor.execute(sql_sal11)\n",
    "for row in cursor:\n",
    "    print('department: %s \\t sal_max: %s' %row)"
   ]
  },
  {
   "cell_type": "code",
   "execution_count": 17,
   "metadata": {},
   "outputs": [
    {
     "name": "stdout",
     "output_type": "stream",
     "text": [
      "department: Production        \t sal_min: 30000\n",
      "department: Production        \t sal_min: 30000\n",
      "department: Production        \t sal_min: 30000\n",
      "department: Production        \t sal_min: 30000\n",
      "department: Production        \t sal_min: 30000\n",
      "department: Production        \t sal_min: 30000\n",
      "department: Production        \t sal_min: 30000\n",
      "department: Production        \t sal_min: 30000\n",
      "department: Production        \t sal_min: 30000\n",
      "department: Production        \t sal_min: 30000\n"
     ]
    }
   ],
   "source": [
    "# which department get the minimum salary for their employees? Top 10 min\n",
    "sql_sal12 = \"\"\"\n",
    "    SELECT department, MIN(\"Salary Min\") as sal_min \n",
    "    FROM hr_dataset JOIN salary_grid ON hr_dataset.position = salary_grid.\"Position\"\n",
    "    GROUP BY hr_dataset.id ORDER BY sal_min ASC LIMIT 10;\n",
    "\"\"\"\n",
    "\n",
    "cursor.execute(sql_sal12)\n",
    "for row in cursor:\n",
    "    print('department: %s \\t sal_min: %s' %row)"
   ]
  },
  {
   "cell_type": "code",
   "execution_count": 18,
   "metadata": {},
   "outputs": [
    {
     "name": "stdout",
     "output_type": "stream",
     "text": [
      "Employee Source: Vendor Referral \t sal_max: 139170\n",
      "Employee Source: Vendor Referral \t sal_max: 139170\n",
      "Employee Source: Company Intranet - Partner \t sal_max: 139170\n",
      "Employee Source: Vendor Referral \t sal_max: 139170\n",
      "Employee Source: Employee Referral \t sal_max: 120451\n",
      "Employee Source: On-campus Recruiting \t sal_max: 120451\n",
      "Employee Source: Vendor Referral \t sal_max: 120451\n",
      "Employee Source: Employee Referral \t sal_max: 120451\n",
      "Employee Source: Employee Referral \t sal_max: 120451\n",
      "Employee Source: Search Engine - Google Bing Yahoo \t sal_max: 93312\n"
     ]
    }
   ],
   "source": [
    "# which department get the maximum salary for their employees? Top 10 max\n",
    "sql_sal13 = \"\"\"\n",
    "    SELECT \"Employee Source\", MAX(\"Salary Max\") as sal_max \n",
    "    FROM hr_dataset JOIN salary_grid ON hr_dataset.position = salary_grid.\"Position\"\n",
    "    GROUP BY hr_dataset.id ORDER BY sal_max DESC LIMIT 10;\n",
    "\"\"\"\n",
    "\n",
    "cursor.execute(sql_sal13)\n",
    "for row in cursor:\n",
    "    print('Employee Source: %s \\t sal_max: %s' %row)"
   ]
  },
  {
   "cell_type": "code",
   "execution_count": 19,
   "metadata": {},
   "outputs": [
    {
     "name": "stdout",
     "output_type": "stream",
     "text": [
      "Employee Source: Billboard \t sal_min: 30000\n",
      "Employee Source: Internet Search \t sal_min: 30000\n",
      "Employee Source: Diversity Job Fair \t sal_min: 30000\n",
      "Employee Source: Word of Mouth \t sal_min: 30000\n",
      "Employee Source: Diversity Job Fair \t sal_min: 30000\n",
      "Employee Source: Website Banner Ads \t sal_min: 30000\n",
      "Employee Source: Billboard \t sal_min: 30000\n",
      "Employee Source: Employee Referral \t sal_min: 30000\n",
      "Employee Source: On-campus Recruiting \t sal_min: 30000\n",
      "Employee Source: Diversity Job Fair \t sal_min: 30000\n"
     ]
    }
   ],
   "source": [
    "# which department get the minimum salary for their employees? Top 10 min\n",
    "sql_sal14 = \"\"\"\n",
    "    SELECT \"Employee Source\", MIN(\"Salary Min\") as sal_min \n",
    "    FROM hr_dataset JOIN salary_grid ON hr_dataset.position = salary_grid.\"Position\"\n",
    "    GROUP BY hr_dataset.id ORDER BY sal_min ASC LIMIT 10;\n",
    "\"\"\"\n",
    "\n",
    "cursor.execute(sql_sal14)\n",
    "for row in cursor:\n",
    "    print('Employee Source: %s \\t sal_min: %s' %row)"
   ]
  },
  {
   "cell_type": "code",
   "execution_count": 5,
   "metadata": {},
   "outputs": [
    {
     "name": "stdout",
     "output_type": "stream",
     "text": [
      "Sex: Male \t sal_max: 139170\n",
      "Sex: Female \t sal_max: 139170\n",
      "Sex: Male \t sal_max: 139170\n",
      "Sex: Female \t sal_max: 139170\n",
      "Sex: Male \t sal_max: 120451\n",
      "Sex: Male \t sal_max: 120451\n",
      "Sex: Female \t sal_max: 120451\n",
      "Sex: Male \t sal_max: 120451\n",
      "Sex: Female \t sal_max: 120451\n",
      "Sex: Female \t sal_max: 93312\n"
     ]
    }
   ],
   "source": [
    "# which sex get the maximum salary for their employees? Top 10 max\n",
    "sql_sal15 = \"\"\"\n",
    "    SELECT sex, MAX(\"Salary Max\") as sal_max \n",
    "    FROM hr_dataset JOIN salary_grid ON hr_dataset.position = salary_grid.\"Position\"\n",
    "    GROUP BY hr_dataset.id ORDER BY sal_max DESC LIMIT 10;\n",
    "\"\"\"\n",
    "\n",
    "cursor.execute(sql_sal15)\n",
    "for row in cursor:\n",
    "    print('Sex: %s \\t sal_max: %s' %row)"
   ]
  },
  {
   "cell_type": "code",
   "execution_count": 6,
   "metadata": {},
   "outputs": [
    {
     "name": "stdout",
     "output_type": "stream",
     "text": [
      "Sex: Female \t sal_min: 30000\n",
      "Sex: Female \t sal_min: 30000\n",
      "Sex: Male \t sal_min: 30000\n",
      "Sex: Female \t sal_min: 30000\n",
      "Sex: Female \t sal_min: 30000\n",
      "Sex: Female \t sal_min: 30000\n",
      "Sex: Female \t sal_min: 30000\n",
      "Sex: Male \t sal_min: 30000\n",
      "Sex: Female \t sal_min: 30000\n",
      "Sex: Female \t sal_min: 30000\n"
     ]
    }
   ],
   "source": [
    "# which sex get the minimum salary for their employees? Top 10 min\n",
    "sql_sal16 = \"\"\"\n",
    "    SELECT sex, MIN(\"Salary Min\") as sal_min \n",
    "    FROM hr_dataset JOIN salary_grid ON hr_dataset.position = salary_grid.\"Position\"\n",
    "    GROUP BY hr_dataset.id ORDER BY sal_min ASC LIMIT 10;\n",
    "\"\"\"\n",
    "\n",
    "cursor.execute(sql_sal16)\n",
    "for row in cursor:\n",
    "    print('Sex: %s \\t sal_min: %s' %row)"
   ]
  },
  {
   "cell_type": "code",
   "execution_count": null,
   "metadata": {},
   "outputs": [],
   "source": []
  },
  {
   "cell_type": "code",
   "execution_count": 20,
   "metadata": {},
   "outputs": [],
   "source": [
    "# 'HR_DATASET' AND 'RECRUITING_COSTS'\n"
   ]
  },
  {
   "cell_type": "code",
   "execution_count": 16,
   "metadata": {},
   "outputs": [
    {
     "name": "stdout",
     "output_type": "stream",
     "text": [
      "6497\n",
      "6584\n",
      "4389\n",
      "11177\n",
      "5881\n",
      "5209\n",
      "6616\n",
      "10032\n",
      "7278\n",
      "5652\n",
      "6343\n",
      "8807\n"
     ]
    }
   ],
   "source": [
    "# Amount of costs for each month (April, August, December - TOP-3)\n",
    "\n",
    "sql_recr = \"\"\"\n",
    "    (SELECT SUM(\"January \") FROM public.recruiting_costs) \n",
    "    UNION (SELECT SUM(\"February\") FROM public.recruiting_costs) \n",
    "    UNION (SELECT SUM(\"March\") FROM public.recruiting_costs) \n",
    "    UNION (SELECT SUM(\"April\") FROM public.recruiting_costs) \n",
    "    UNION (SELECT SUM(\"May\") FROM public.recruiting_costs) \n",
    "    UNION (SELECT SUM(\"June\") FROM public.recruiting_costs) \n",
    "    UNION (SELECT SUM(\"July\") FROM public.recruiting_costs) \n",
    "    UNION (SELECT SUM(\"August\") FROM public.recruiting_costs) \n",
    "    UNION (SELECT SUM(\"September\") FROM public.recruiting_costs) \n",
    "    UNION (SELECT SUM(\"October\") FROM public.recruiting_costs) \n",
    "    UNION (SELECT SUM(\"November\") FROM public.recruiting_costs) \n",
    "    UNION (SELECT SUM(\"December\") FROM public.recruiting_costs);\n",
    "\"\"\"\n",
    "\n",
    "cursor.execute(sql_recr)\n",
    "for row in cursor:\n",
    "    print(row[0])"
   ]
  },
  {
   "cell_type": "code",
   "execution_count": null,
   "metadata": {},
   "outputs": [],
   "source": []
  },
  {
   "cell_type": "code",
   "execution_count": 30,
   "metadata": {},
   "outputs": [
    {
     "name": "stdout",
     "output_type": "stream",
     "text": [
      "Billboard\n",
      "Search Engine - Google Bing Yahoo\n",
      "Billboard\n",
      "Diversity Job Fair\n",
      "Other\n",
      "Other\n",
      "Billboard\n",
      "Diversity Job Fair\n",
      "Employee Referral\n",
      "Search Engine - Google Bing Yahoo\n"
     ]
    }
   ],
   "source": [
    "# From what sources do we find the longest-serving employees?\n",
    "sql_recr2 = \"\"\"\n",
    "    SELECT \"Employee Source\" FROM public.hr_dataset \n",
    "    ORDER BY \"Days Employed\" DESC LIMIT 10;\n",
    "\"\"\"\n",
    "\n",
    "cursor.execute(sql_recr2)\n",
    "for row in cursor:\n",
    "    print(row[0])"
   ]
  },
  {
   "cell_type": "code",
   "execution_count": 31,
   "metadata": {},
   "outputs": [
    {
     "name": "stdout",
     "output_type": "stream",
     "text": [
      "Diversity Job Fair\n",
      "Pay Per Click\n",
      "Employee Referral\n",
      "Word of Mouth\n",
      "Diversity Job Fair\n",
      "Social Networks - Facebook Twitter etc\n",
      "Search Engine - Google Bing Yahoo\n",
      "Glassdoor\n",
      "Newspager/Magazine\n",
      "Word of Mouth\n"
     ]
    }
   ],
   "source": [
    "# From what sources do we find the most under-employed employees?\n",
    "sql_recr3 = \"\"\"\n",
    "    SELECT \"Employee Source\" FROM public.hr_dataset \n",
    "    ORDER BY \"Days Employed\" ASC LIMIT 10;\n",
    "\"\"\"\n",
    "\n",
    "cursor.execute(sql_recr3)\n",
    "for row in cursor:\n",
    "    print(row[0])"
   ]
  },
  {
   "cell_type": "code",
   "execution_count": null,
   "metadata": {},
   "outputs": [],
   "source": []
  },
  {
   "cell_type": "code",
   "execution_count": 6,
   "metadata": {},
   "outputs": [],
   "source": [
    "# II. LET'S EXPLORE THE TABLE 'PRODUCTION_STAFF'!\n"
   ]
  },
  {
   "cell_type": "code",
   "execution_count": 9,
   "metadata": {},
   "outputs": [
    {
     "name": "stdout",
     "output_type": "stream",
     "text": [
      "{'Elisa Bramante': 10, 'Elijiah Gray': 14, 'Brannon Miller': 8, 'Kelley Spirea': 15, 'Michael Albert': 10, 'Webster Butler': 11, 'Amy Dunn': 11, 'Ketsia Liebig': 14, 'David Stanley': 15, 'Kissy Sullivan': 14}\n"
     ]
    }
   ],
   "source": [
    "# Is there a relationship between performance score and who the employee is working under?\n",
    "# - Fully Meets\n",
    "sql_str64 = \"\"\"\n",
    "    SELECT \"Manager Name\" FROM public.production_staff \n",
    "    WHERE \"Performance Score\" = 'Fully Meets';\n",
    "\"\"\"\n",
    "sql_medium(sql_str64)"
   ]
  },
  {
   "cell_type": "code",
   "execution_count": 10,
   "metadata": {},
   "outputs": [
    {
     "name": "stdout",
     "output_type": "stream",
     "text": [
      "{'Elisa Bramante': 2, 'Michael Albert': 2, 'Brannon Miller': 5, 'Amy Dunn': 2, 'Webster Butler': 2, 'Kelley Spirea': 3, 'David Stanley': 1, 'Kissy Sullivan': 1, 'Ketsia Liebig': 2, 'Elijiah Gray': 2}\n"
     ]
    }
   ],
   "source": [
    "# Is there a relationship between performance score and who the employee is working under?\n",
    "# - Exceeds\n",
    "sql_str65 = \"\"\"\n",
    "    SELECT \"Manager Name\" FROM public.production_staff \n",
    "    WHERE \"Performance Score\" = 'Exceeds';\n",
    "\"\"\"\n",
    "sql_medium(sql_str65)"
   ]
  },
  {
   "cell_type": "code",
   "execution_count": 11,
   "metadata": {},
   "outputs": [
    {
     "name": "stdout",
     "output_type": "stream",
     "text": [
      "{'Elisa Bramante': 2, 'Kissy Sullivan': 1, 'Brannon Miller': 1, 'Michael Albert': 3, 'Webster Butler': 2, 'Ketsia Liebig': 1, 'Elijiah Gray': 1}\n"
     ]
    }
   ],
   "source": [
    "# Is there a relationship between performance score and who the employee is working under?\n",
    "# - Needs Improvement\n",
    "sql_str66 = \"\"\"\n",
    "    SELECT \"Manager Name\" FROM public.production_staff \n",
    "    WHERE \"Performance Score\" = 'Needs Improvement';\n",
    "\"\"\"\n",
    "sql_medium(sql_str66)"
   ]
  },
  {
   "cell_type": "code",
   "execution_count": 16,
   "metadata": {},
   "outputs": [
    {
     "name": "stdout",
     "output_type": "stream",
     "text": [
      "{'White': 80, 'Asian': 14, 'Hispanic': 2, 'Black or African American': 20, 'Two or more races': 5, 'American Indian or Alaska Native': 1}\n"
     ]
    }
   ],
   "source": [
    "# Is there a relationship between performance score and the race of the employee?\n",
    "# - Fully Meets\n",
    "sql_str67 = \"\"\"\n",
    "    SELECT \"Race Desc\" FROM public.production_staff \n",
    "    WHERE \"Performance Score\" = 'Fully Meets';\n",
    "\"\"\"\n",
    "sql_medium(sql_str67)"
   ]
  },
  {
   "cell_type": "code",
   "execution_count": 17,
   "metadata": {},
   "outputs": [
    {
     "name": "stdout",
     "output_type": "stream",
     "text": [
      "{'White': 15, 'Two or more races': 2, 'American Indian or Alaska Native': 2, 'Asian': 2, 'Black or African American': 1}\n"
     ]
    }
   ],
   "source": [
    "# Is there a relationship between performance score and the race of the employee?\n",
    "# - Exceeds\n",
    "sql_str68 = \"\"\"\n",
    "    SELECT \"Race Desc\" FROM public.production_staff \n",
    "    WHERE \"Performance Score\" = 'Exceeds';\n",
    "\"\"\"\n",
    "sql_medium(sql_str68)"
   ]
  },
  {
   "cell_type": "code",
   "execution_count": 18,
   "metadata": {},
   "outputs": [
    {
     "name": "stdout",
     "output_type": "stream",
     "text": [
      "{'Asian': 1, 'White': 5, 'Black or African American': 5}\n"
     ]
    }
   ],
   "source": [
    "# Is there a relationship between performance score and the race of the employee?\n",
    "# - Needs Improvement\n",
    "sql_str69 = \"\"\"\n",
    "    SELECT \"Race Desc\" FROM public.production_staff \n",
    "    WHERE \"Performance Score\" = 'Needs Improvement';\n",
    "\"\"\"\n",
    "sql_medium(sql_str69)"
   ]
  },
  {
   "cell_type": "code",
   "execution_count": 19,
   "metadata": {},
   "outputs": [
    {
     "name": "stdout",
     "output_type": "stream",
     "text": [
      "{'Production       ': 122}\n"
     ]
    }
   ],
   "source": [
    "# Is there a relationship between performance score and the department of the employee?\n",
    "# - Fully Meets\n",
    "sql_str70 = \"\"\"\n",
    "    SELECT \"Department\" FROM public.production_staff \n",
    "    WHERE \"Performance Score\" = 'Fully Meets';\n",
    "\"\"\"\n",
    "sql_medium(sql_str70)"
   ]
  },
  {
   "cell_type": "code",
   "execution_count": 20,
   "metadata": {},
   "outputs": [
    {
     "name": "stdout",
     "output_type": "stream",
     "text": [
      "{'Production       ': 22}\n"
     ]
    }
   ],
   "source": [
    "# Is there a relationship between performance score and the department of the employee?\n",
    "# - Exceeds\n",
    "sql_str71 = \"\"\"\n",
    "    SELECT \"Department\" FROM public.production_staff \n",
    "    WHERE \"Performance Score\" = 'Exceeds';\n",
    "\"\"\"\n",
    "sql_medium(sql_str71)"
   ]
  },
  {
   "cell_type": "code",
   "execution_count": 21,
   "metadata": {},
   "outputs": [
    {
     "name": "stdout",
     "output_type": "stream",
     "text": [
      "{'Production       ': 11}\n"
     ]
    }
   ],
   "source": [
    "# Is there a relationship between performance score and the department of the employee?\n",
    "# - Needs Improvement\n",
    "sql_str72 = \"\"\"\n",
    "    SELECT \"Department\" FROM public.production_staff \n",
    "    WHERE \"Performance Score\" = 'Needs Improvement';\n",
    "\"\"\"\n",
    "sql_medium(sql_str72)"
   ]
  },
  {
   "cell_type": "code",
   "execution_count": 25,
   "metadata": {},
   "outputs": [
    {
     "name": "stdout",
     "output_type": "stream",
     "text": [
      "{'Production Manager': 10, 'Production Technician I': 79, 'Production Technician II': 33}\n"
     ]
    }
   ],
   "source": [
    "# Is there a relationship between performance score and the position of the employee?\n",
    "# - Fully Meets\n",
    "sql_str73 = \"\"\"\n",
    "    SELECT \"Position\" FROM public.production_staff \n",
    "    WHERE \"Performance Score\" = 'Fully Meets';\n",
    "\"\"\"\n",
    "sql_medium(sql_str73)"
   ]
  },
  {
   "cell_type": "code",
   "execution_count": 26,
   "metadata": {},
   "outputs": [
    {
     "name": "stdout",
     "output_type": "stream",
     "text": [
      "{'Production Manager': 2, 'Production Technician I': 14, 'Production Technician II': 6}\n"
     ]
    }
   ],
   "source": [
    "# Is there a relationship between performance score and the position of the employee?\n",
    "# - Exceeds\n",
    "sql_str74 = \"\"\"\n",
    "    SELECT \"Position\" FROM public.production_staff \n",
    "    WHERE \"Performance Score\" = 'Exceeds';\n",
    "\"\"\"\n",
    "sql_medium(sql_str74)"
   ]
  },
  {
   "cell_type": "code",
   "execution_count": 27,
   "metadata": {},
   "outputs": [
    {
     "name": "stdout",
     "output_type": "stream",
     "text": [
      "{'Production Manager': 2, 'Production Technician I': 8, 'Production Technician II': 1}\n"
     ]
    }
   ],
   "source": [
    "# Is there a relationship between performance score and the position of the employee?\n",
    "# - Needs Improvement\n",
    "sql_str75 = \"\"\"\n",
    "    SELECT \"Position\" FROM public.production_staff \n",
    "    WHERE \"Performance Score\" = 'Needs Improvement';\n",
    "\"\"\"\n",
    "sql_medium(sql_str75)"
   ]
  },
  {
   "cell_type": "code",
   "execution_count": null,
   "metadata": {},
   "outputs": [],
   "source": []
  },
  {
   "cell_type": "code",
   "execution_count": null,
   "metadata": {},
   "outputs": [],
   "source": [
    "# 'PRODUCTION_STAFF' AND 'SALARY_GRID'\n"
   ]
  },
  {
   "cell_type": "code",
   "execution_count": 32,
   "metadata": {},
   "outputs": [
    {
     "name": "stdout",
     "output_type": "stream",
     "text": [
      "manage_name: Michael Albert \t sal_max: 58000\n",
      "manage_name: Kissy Sullivan \t sal_max: 58000\n",
      "manage_name: Webster Butler \t sal_max: 58000\n",
      "manage_name: David Stanley \t sal_max: 58000\n",
      "manage_name: Kelley Spirea \t sal_max: 58000\n",
      "manage_name: Amy Dunn \t sal_max: 58000\n",
      "manage_name: David Stanley \t sal_max: 58000\n",
      "manage_name: Webster Butler \t sal_max: 58000\n",
      "manage_name: Kissy Sullivan \t sal_max: 58000\n",
      "manage_name: Kissy Sullivan \t sal_max: 58000\n"
     ]
    }
   ],
   "source": [
    "# which managers get the maximum salary for their employees? Top 10 max\n",
    "sql_sal17 = \"\"\"\n",
    "    SELECT production_staff.\"Manager Name\", MAX(\"Salary Max\") as sal_max \n",
    "    FROM production_staff JOIN salary_grid ON production_staff.\"Position\" = salary_grid.\"Position\"\n",
    "    GROUP BY production_staff.id ORDER BY sal_max DESC LIMIT 10;\n",
    "\"\"\"\n",
    "\n",
    "cursor.execute(sql_sal17)\n",
    "for row in cursor:\n",
    "    print('manage_name: %s \\t sal_max: %s' %row)"
   ]
  },
  {
   "cell_type": "code",
   "execution_count": 33,
   "metadata": {},
   "outputs": [
    {
     "name": "stdout",
     "output_type": "stream",
     "text": [
      "manage_name: Kelley Spirea \t sal_min: 30000\n",
      "manage_name: Amy Dunn \t sal_min: 30000\n",
      "manage_name: Kelley Spirea \t sal_min: 30000\n",
      "manage_name: Kissy Sullivan \t sal_min: 30000\n",
      "manage_name: David Stanley \t sal_min: 30000\n",
      "manage_name: Ketsia Liebig \t sal_min: 30000\n",
      "manage_name: Kelley Spirea \t sal_min: 30000\n",
      "manage_name: Webster Butler \t sal_min: 30000\n",
      "manage_name: Michael Albert \t sal_min: 30000\n",
      "manage_name: Ketsia Liebig \t sal_min: 30000\n"
     ]
    }
   ],
   "source": [
    "# which managers get the minimum salary for their employees? Top 10 min\n",
    "sql_sal18 = \"\"\"\n",
    "    SELECT production_staff.\"Manager Name\", MIN(\"Salary Min\") as sal_min \n",
    "    FROM production_staff JOIN salary_grid ON production_staff.\"Position\" = salary_grid.\"Position\"\n",
    "    GROUP BY production_staff.id ORDER BY sal_min ASC LIMIT 10;\n",
    "\"\"\"\n",
    "\n",
    "cursor.execute(sql_sal18)\n",
    "for row in cursor:\n",
    "    print('manage_name: %s \\t sal_min: %s' %row)"
   ]
  },
  {
   "cell_type": "code",
   "execution_count": 34,
   "metadata": {},
   "outputs": [
    {
     "name": "stdout",
     "output_type": "stream",
     "text": [
      "race_desc: White \t sal_max: 58000\n",
      "race_desc: Black or African American \t sal_max: 58000\n",
      "race_desc: White \t sal_max: 58000\n",
      "race_desc: White \t sal_max: 58000\n",
      "race_desc: Hispanic \t sal_max: 58000\n",
      "race_desc: White \t sal_max: 58000\n",
      "race_desc: White \t sal_max: 58000\n",
      "race_desc: White \t sal_max: 58000\n",
      "race_desc: White \t sal_max: 58000\n",
      "race_desc: Two or more races \t sal_max: 58000\n"
     ]
    }
   ],
   "source": [
    "# which racedesc get the maximum salary for their employees? Top 10 max\n",
    "sql_sal19 = \"\"\"\n",
    "    SELECT production_staff.\"Race Desc\", MAX(\"Salary Max\") as sal_max \n",
    "    FROM production_staff JOIN salary_grid ON production_staff.\"Position\" = salary_grid.\"Position\"\n",
    "    GROUP BY production_staff.id ORDER BY sal_max DESC LIMIT 10;\n",
    "\"\"\"\n",
    "\n",
    "cursor.execute(sql_sal19)\n",
    "for row in cursor:\n",
    "    print('race_desc: %s \\t sal_max: %s' %row)"
   ]
  },
  {
   "cell_type": "code",
   "execution_count": 36,
   "metadata": {},
   "outputs": [
    {
     "name": "stdout",
     "output_type": "stream",
     "text": [
      "race_desc: Asian \t sal_min: 30000\n",
      "race_desc: White \t sal_min: 30000\n",
      "race_desc: White \t sal_min: 30000\n",
      "race_desc: Asian \t sal_min: 30000\n",
      "race_desc: White \t sal_min: 30000\n",
      "race_desc: Two or more races \t sal_min: 30000\n",
      "race_desc: White \t sal_min: 30000\n",
      "race_desc: Two or more races \t sal_min: 30000\n",
      "race_desc: White \t sal_min: 30000\n",
      "race_desc: White \t sal_min: 30000\n"
     ]
    }
   ],
   "source": [
    "# which racedesc get the minimum salary for their employees? Top 10 min\n",
    "sql_sal20 = \"\"\"\n",
    "    SELECT production_staff.\"Race Desc\", MIN(\"Salary Min\") as sal_min \n",
    "    FROM production_staff JOIN salary_grid ON production_staff.\"Position\" = salary_grid.\"Position\"\n",
    "    GROUP BY production_staff.id ORDER BY sal_min ASC LIMIT 10;\n",
    "\"\"\"\n",
    "\n",
    "cursor.execute(sql_sal20)\n",
    "for row in cursor:\n",
    "    print('race_desc: %s \\t sal_min: %s' %row)"
   ]
  },
  {
   "cell_type": "code",
   "execution_count": 37,
   "metadata": {},
   "outputs": [
    {
     "name": "stdout",
     "output_type": "stream",
     "text": [
      "position: Production Technician II \t sal_max: 58000\n",
      "position: Production Technician II \t sal_max: 58000\n",
      "position: Production Technician II \t sal_max: 58000\n",
      "position: Production Technician II \t sal_max: 58000\n",
      "position: Production Technician II \t sal_max: 58000\n",
      "position: Production Technician II \t sal_max: 58000\n",
      "position: Production Technician II \t sal_max: 58000\n",
      "position: Production Technician II \t sal_max: 58000\n",
      "position: Production Technician II \t sal_max: 58000\n",
      "position: Production Technician II \t sal_max: 58000\n"
     ]
    }
   ],
   "source": [
    "# which position get the maximum salary for their employees? Top 10 max\n",
    "sql_sal21 = \"\"\"\n",
    "    SELECT production_staff.\"Position\", MAX(\"Salary Max\") as sal_max \n",
    "    FROM production_staff JOIN salary_grid ON production_staff.\"Position\" = salary_grid.\"Position\"\n",
    "    GROUP BY production_staff.id ORDER BY sal_max DESC LIMIT 10;\n",
    "\"\"\"\n",
    "\n",
    "cursor.execute(sql_sal21)\n",
    "for row in cursor:\n",
    "    print('position: %s \\t sal_max: %s' %row)"
   ]
  },
  {
   "cell_type": "code",
   "execution_count": 39,
   "metadata": {},
   "outputs": [
    {
     "name": "stdout",
     "output_type": "stream",
     "text": [
      "position: Production Technician I \t sal_min: 30000\n",
      "position: Production Technician I \t sal_min: 30000\n",
      "position: Production Technician I \t sal_min: 30000\n",
      "position: Production Technician I \t sal_min: 30000\n",
      "position: Production Technician I \t sal_min: 30000\n",
      "position: Production Technician I \t sal_min: 30000\n",
      "position: Production Technician I \t sal_min: 30000\n",
      "position: Production Technician I \t sal_min: 30000\n",
      "position: Production Technician I \t sal_min: 30000\n",
      "position: Production Technician I \t sal_min: 30000\n"
     ]
    }
   ],
   "source": [
    "# which position get the minimum salary for their employees? Top 10 min\n",
    "sql_sal22 = \"\"\"\n",
    "    SELECT production_staff.\"Position\", MIN(\"Salary Min\") as sal_min \n",
    "    FROM production_staff JOIN salary_grid ON production_staff.\"Position\" = salary_grid.\"Position\"\n",
    "    GROUP BY production_staff.id ORDER BY sal_min ASC LIMIT 10;\n",
    "\"\"\"\n",
    "\n",
    "cursor.execute(sql_sal22)\n",
    "for row in cursor:\n",
    "    print('position: %s \\t sal_min: %s' %row)"
   ]
  },
  {
   "cell_type": "code",
   "execution_count": 40,
   "metadata": {},
   "outputs": [
    {
     "name": "stdout",
     "output_type": "stream",
     "text": [
      "empl_stat: Voluntarily Terminated \t sal_max: 58000\n",
      "empl_stat: Active \t sal_max: 58000\n",
      "empl_stat: Active \t sal_max: 58000\n",
      "empl_stat: Voluntarily Terminated \t sal_max: 58000\n",
      "empl_stat: Leave of Absence \t sal_max: 58000\n",
      "empl_stat: Voluntarily Terminated \t sal_max: 58000\n",
      "empl_stat: Leave of Absence \t sal_max: 58000\n",
      "empl_stat: Future Start \t sal_max: 58000\n",
      "empl_stat: Voluntarily Terminated \t sal_max: 58000\n",
      "empl_stat: Active \t sal_max: 58000\n"
     ]
    }
   ],
   "source": [
    "# which employment status get the maximum salary for their employees? Top 10 max\n",
    "sql_sal23 = \"\"\"\n",
    "    SELECT production_staff.\"Employment Status\", MAX(\"Salary Max\") as sal_max \n",
    "    FROM production_staff JOIN salary_grid ON production_staff.\"Position\" = salary_grid.\"Position\"\n",
    "    GROUP BY production_staff.id ORDER BY sal_max DESC LIMIT 10;\n",
    "\"\"\"\n",
    "\n",
    "cursor.execute(sql_sal23)\n",
    "for row in cursor:\n",
    "    print('empl_stat: %s \\t sal_max: %s' %row)"
   ]
  },
  {
   "cell_type": "code",
   "execution_count": 42,
   "metadata": {},
   "outputs": [
    {
     "name": "stdout",
     "output_type": "stream",
     "text": [
      "empl_stat: Active \t sal_min: 30000\n",
      "empl_stat: Active \t sal_min: 30000\n",
      "empl_stat: Active \t sal_min: 30000\n",
      "empl_stat: Voluntarily Terminated \t sal_min: 30000\n",
      "empl_stat: Active \t sal_min: 30000\n",
      "empl_stat: Voluntarily Terminated \t sal_min: 30000\n",
      "empl_stat: Active \t sal_min: 30000\n",
      "empl_stat: Voluntarily Terminated \t sal_min: 30000\n",
      "empl_stat: Active \t sal_min: 30000\n",
      "empl_stat: Leave of Absence \t sal_min: 30000\n"
     ]
    }
   ],
   "source": [
    "# which employment status get the minimum salary for their employees? Top 10 min\n",
    "sql_sal24 = \"\"\"\n",
    "    SELECT production_staff.\"Employment Status\", MIN(\"Salary Min\") as sal_min \n",
    "    FROM production_staff JOIN salary_grid ON production_staff.\"Position\" = salary_grid.\"Position\"\n",
    "    GROUP BY production_staff.id ORDER BY sal_min ASC LIMIT 10;\n",
    "\"\"\"\n",
    "\n",
    "cursor.execute(sql_sal24)\n",
    "for row in cursor:\n",
    "    print('empl_stat: %s \\t sal_min: %s' %row)"
   ]
  },
  {
   "cell_type": "code",
   "execution_count": 43,
   "metadata": {},
   "outputs": [
    {
     "name": "stdout",
     "output_type": "stream",
     "text": [
      "perf_score: Fully Meets \t sal_max: 58000\n",
      "perf_score: Exceptional \t sal_max: 58000\n",
      "perf_score: Fully Meets \t sal_max: 58000\n",
      "perf_score: N/A- too early to review \t sal_max: 58000\n",
      "perf_score: Fully Meets \t sal_max: 58000\n",
      "perf_score: Fully Meets \t sal_max: 58000\n",
      "perf_score: Fully Meets \t sal_max: 58000\n",
      "perf_score: N/A- too early to review \t sal_max: 58000\n",
      "perf_score: Fully Meets \t sal_max: 58000\n",
      "perf_score: 90-day meets \t sal_max: 58000\n"
     ]
    }
   ],
   "source": [
    "# which performance score get the maximum salary for their employees? Top 10 max\n",
    "sql_sal25 = \"\"\"\n",
    "    SELECT production_staff.\"Performance Score\", MAX(\"Salary Max\") as sal_max \n",
    "    FROM production_staff JOIN salary_grid ON production_staff.\"Position\" = salary_grid.\"Position\"\n",
    "    GROUP BY production_staff.id ORDER BY sal_max DESC LIMIT 10;\n",
    "\"\"\"\n",
    "\n",
    "cursor.execute(sql_sal25)\n",
    "for row in cursor:\n",
    "    print('perf_score: %s \\t sal_max: %s' %row)"
   ]
  },
  {
   "cell_type": "code",
   "execution_count": 18,
   "metadata": {},
   "outputs": [
    {
     "name": "stdout",
     "output_type": "stream",
     "text": [
      "perf_score: Fully Meets \t sal_min: 30000\n",
      "perf_score: Exceeds \t sal_min: 30000\n",
      "perf_score: Fully Meets \t sal_min: 30000\n",
      "perf_score: 90-day meets \t sal_min: 30000\n",
      "perf_score: Fully Meets \t sal_min: 30000\n",
      "perf_score: Fully Meets \t sal_min: 30000\n",
      "perf_score: 90-day meets \t sal_min: 30000\n",
      "perf_score: Exceeds \t sal_min: 30000\n",
      "perf_score: Fully Meets \t sal_min: 30000\n",
      "perf_score: Fully Meets \t sal_min: 30000\n"
     ]
    }
   ],
   "source": [
    "# which performance score get the minimum salary for their employees? Top 10 max\n",
    "sql_sal26 = \"\"\"\n",
    "    SELECT production_staff.\"Performance Score\", MIN(\"Salary Min\") as sal_min \n",
    "    FROM production_staff JOIN salary_grid ON production_staff.\"Position\" = salary_grid.\"Position\"\n",
    "    GROUP BY production_staff.id ORDER BY sal_min ASC LIMIT 10;\n",
    "\"\"\"\n",
    "\n",
    "cursor.execute(sql_sal26)\n",
    "for row in cursor:\n",
    "    print('perf_score: %s \\t sal_min: %s' %row)"
   ]
  },
  {
   "cell_type": "code",
   "execution_count": 2,
   "metadata": {},
   "outputs": [
    {
     "name": "stdout",
     "output_type": "stream",
     "text": [
      "('Production       ', 208, 83, Decimal('39.9038461538461538'))\n",
      "('IT/IS', 50, 10, Decimal('20.0000000000000000'))\n",
      "('Sales', 31, 4, Decimal('12.9032258064516129'))\n",
      "('Admin Offices', 10, 2, Decimal('20.0000000000000000'))\n",
      "('Software Engineering', 10, 3, Decimal('30.0000000000000000'))\n"
     ]
    }
   ],
   "source": [
    "# How many people worked in each department, how many left, and what percentage? \n",
    "sql0 = \"\"\"\n",
    "    WITH Total AS (SELECT department, COUNT(\"id\") as count_id FROM hr_dataset \n",
    "    GROUP BY hr_dataset.department ORDER BY count_id DESC), \n",
    "    Terminate AS (SELECT department, COUNT(\"id\") as count_id_t FROM hr_dataset \n",
    "    WHERE \"Employment Status\" NOT IN ('Future Start', \n",
    "    'Active', 'Leave of Absence') GROUP BY hr_dataset.department)\n",
    "    SELECT A.*, Terminate.count_id_t, (count_id_t*100.00/count_id)\n",
    "    FROM Total A JOIN Terminate ON \n",
    "    A.department = Terminate.department;\n",
    "\"\"\"\n",
    "\n",
    "cursor.execute(sql0)\n",
    "for row in cursor:\n",
    "    print(row)"
   ]
  },
  {
   "cell_type": "code",
   "execution_count": null,
   "metadata": {},
   "outputs": [],
   "source": []
  },
  {
   "cell_type": "markdown",
   "metadata": {},
   "source": [
    "\n",
    "\n",
    "#### Таблица hr_dataset\n",
    "\n",
    "Имеется зависимость между оценкой производительности («полностью соответствует») и тем, под чьим руководством работает сотрудник, наибольшее число таких сотрудников обнаружено у 4-х менеджеров – Kelley Spirea, Ketsia Liebig, David Stanley, Kissy Sullivan. \n",
    "\n",
    "Имеется зависимость между оценкой производительности («полностью соответствует» и «превышает») и семейным положением сотрудника – в основном это одинокие люди, на втором месте идут семейные.\n",
    "\n",
    "Ярко выраженной зависимости между оценкой производительности («полностью соответствует») и возрастом сотрудника не имеется, но у наибольшего количества сотрудников зафиксирован возраст 34 и 39 лет. \n",
    "\n",
    "Имеется зависимость между оценкой производительности («полностью соответствует» и «превышает») и гражданством сотрудника – в основном это граждане США. \n",
    "\n",
    "В основном, положительная оценка производительности («полностью соответствует» и «превышает») наблюдается в департаменте производства. \n",
    "\n",
    "С большим отрывом от остальных должностей показывают положительную оценку производительности («полностью соответствует» и «превышает») сотрудники должностей Production Technician I и  Production Technician II. \n",
    "\n",
    "Имеется зависимость между положительной оценкой производительности («полностью соответствует» и «превышает») и источником рекрутинга, откуда нашли специалистов – Diversity Job Fair, Monster.com, Search Engine - Google Bing Yahoo, Employee Referral. Т.е. наиболее производительных сотрудников вероятнее всего нужно искать на этих источниках.\n",
    "\n",
    "Наиболее продолжительное время работают сотрудники: \n",
    "- замужние/женатые; \n",
    "- с гражданством США; \n",
    "- департамента производства;\n",
    "- на должности Production Technician I;\n",
    "- рекрутированные через следующие источники – Billboard', 'Search Engine - Google Bing Yahoo', 'Diversity Job Fair' (скорее всего сотрудников, которые будут работать продолжительное время следует искать через эти источники); \n",
    "- под руководством Janet King.\n",
    "\n",
    "В основном среди тех, кто уже уволился, имеются сотрудники, которые: \n",
    "- работали под руководством Webster Butler, Kissy Sullivan, Kissy Sullivan (необходимо понять, почему так происходит у данных менеджеров); \n",
    "- замужние/женатые; \n",
    "- с гражданством США;\n",
    "- из департамента производства; \n",
    "- на должности Production Technician I и Production Technician II; \n",
    "- имели оценку производительности соответствующую стандартам. \n",
    "\n",
    "Максимальную зарплату получали сотрудники (топ-10): \n",
    "- под руководством Simon Roup и Peter Monroe; \n",
    "- с гражданством США; \n",
    "- одинокие и замужние/женатые; \n",
    "- департамента IT/IS; \n",
    "- найденные через Vendor Referral и Employee Referral; \n",
    "- мужского и женского пола (распределение среди топ-10 – 50 на 50%). \n",
    "\n",
    "Минимальную зарплату получали сотрудники (топ-10): \n",
    "- под руководством Webster Butler, David Stanley и Brannon Miller; \n",
    "- с гражданством США; \n",
    "- в возрасте 43, 49 и 51 года;\n",
    "- департамента Production; \n",
    "- найденные через Diversity Job Fair и Billboard;\n",
    "- в основном женского пола.\n",
    "\n",
    "По количеству сотрудников женщин получается больше чем мужчин (женщины – 177 человек, мужчины – 133 человека).\n",
    "\n",
    "\n",
    "#### Таблица recruiting_costs\n",
    "\n",
    "Среди всех 12 месяцев наибольшие затраты на рекрутинг сложились за апрель, август и декабрь.\n",
    "\n",
    "Больше всего за год потрачено на MBTA ads, Diversity Job Fair и Newspager/Magazine.\n",
    "\n",
    "\n",
    "#### Таблица production_staff\n",
    "\n",
    "В данной таблице приведены данные по департаменту Production. \n",
    "\n",
    "Имеется зависимость между оценкой производительности («полностью соответствует») и тем, под чьим руководством работает сотрудник, наибольшее число таких сотрудников обнаружено у 5-ти менеджеров – Kelley Spirea, Ketsia Liebig, David Stanley, Kissy Sullivan и Elijiah Gray. \n",
    "\n",
    "С большим отрывом от остальных должностей показывают положительную оценку производительности («полностью соответствует» и «превышает») сотрудники на должности Production Technician I. \n",
    "\n",
    "Максимальную зарплату получали сотрудники (топ-10): \n",
    "- под руководством Kissy Sullivan, Webster Butler и David Stanley; \n",
    "- на должности Production Technician II. \n",
    "\n",
    "Минимальную зарплату получали сотрудники (топ-10): \n",
    "- под руководством Kelley Spirea и Ketsia Liebig; \n",
    "- Production Technician I. \n",
    "\n"
   ]
  },
  {
   "cell_type": "code",
   "execution_count": null,
   "metadata": {},
   "outputs": [],
   "source": []
  }
 ],
 "metadata": {
  "colab": {
   "collapsed_sections": [],
   "name": "Coursework_analytics_2.ipynb",
   "provenance": []
  },
  "kernelspec": {
   "display_name": "Python 3",
   "language": "python",
   "name": "python3"
  },
  "language_info": {
   "codemirror_mode": {
    "name": "ipython",
    "version": 3
   },
   "file_extension": ".py",
   "mimetype": "text/x-python",
   "name": "python",
   "nbconvert_exporter": "python",
   "pygments_lexer": "ipython3",
   "version": "3.7.1"
  }
 },
 "nbformat": 4,
 "nbformat_minor": 1
}
